{
  "nbformat": 4,
  "nbformat_minor": 0,
  "metadata": {
    "colab": {
      "name": "prediction.ipynb",
      "provenance": [],
      "collapsed_sections": [],
      "include_colab_link": true
    },
    "kernelspec": {
      "name": "python3",
      "display_name": "Python 3"
    }
  },
  "cells": [
    {
      "cell_type": "markdown",
      "metadata": {
        "id": "view-in-github",
        "colab_type": "text"
      },
      "source": [
        "<a href=\"https://colab.research.google.com/github/ELehmann91/NLP-Contract-Analysis/blob/master/prediction.ipynb\" target=\"_parent\"><img src=\"https://colab.research.google.com/assets/colab-badge.svg\" alt=\"Open In Colab\"/></a>"
      ]
    },
    {
      "cell_type": "markdown",
      "metadata": {
        "id": "FbaZs8kq9H-G",
        "colab_type": "text"
      },
      "source": [
        "# Install"
      ]
    },
    {
      "cell_type": "code",
      "metadata": {
        "id": "seEMmrWhPquv",
        "colab_type": "code",
        "colab": {}
      },
      "source": [
        "%%capture\n",
        "!sudo apt install poppler-utils\n",
        "!pip install pdf2image\n",
        "!sudo apt install tesseract-ocr\n",
        "!pip install pytesseract\n",
        "!pip install spacy\n",
        "!pip install spacy-langdetect\n",
        "!python -m spacy download en_core_web_sm\n",
        "!python -m spacy download de_core_news_sm"
      ],
      "execution_count": 0,
      "outputs": []
    },
    {
      "cell_type": "code",
      "metadata": {
        "id": "3oThH6yvPAGX",
        "colab_type": "code",
        "colab": {}
      },
      "source": [
        "import os\n",
        "import json\n",
        "import re\n",
        "import pytesseract\n",
        "from PIL import Image\n",
        "import pickle\n",
        "import tempfile\n",
        "from pdf2image import convert_from_path\n",
        "from sklearn.linear_model import LogisticRegression\n",
        "from sklearn.pipeline import Pipeline\n",
        "from sklearn.feature_extraction.text import CountVectorizer, TfidfVectorizer, TfidfTransformer\n",
        "import pandas as pd\n",
        "import spacy\n",
        "nlp_en = spacy.load(\"en_core_web_sm\")\n",
        "nlp_de = spacy.load(\"de_core_news_sm\")\n",
        "from spacy.matcher import PhraseMatcher\n",
        "from spacy_langdetect import LanguageDetector\n"
      ],
      "execution_count": 0,
      "outputs": []
    },
    {
      "cell_type": "markdown",
      "metadata": {
        "id": "IF6pHEki9MY_",
        "colab_type": "text"
      },
      "source": [
        "# Define functions (insert yours)\n"
      ]
    },
    {
      "cell_type": "code",
      "metadata": {
        "id": "_Vg72NMmtiKu",
        "colab_type": "code",
        "colab": {}
      },
      "source": [
        "def multi_corpus(text):\n",
        "  '''\n",
        "  check if german or english and use spacy language model accordingly \n",
        "  return spacy doc\n",
        "  '''\n",
        "  nlp = spacy.load(\"en_core_web_sm\")\n",
        "  nlp.add_pipe(LanguageDetector(), name='language_detector', last=True)\n",
        "  doc = nlp(text)\n",
        "  # document level language detection. Think of it like average language of the document!\n",
        "  if doc._.language['language'] == 'en':\n",
        "    #print('english detected')\n",
        "    doc = nlp_en(text)\n",
        "  elif doc._.language['language'] == 'de':\n",
        "    #print('german detected')\n",
        "    doc = nlp_en(text)\n",
        "  else:\n",
        "    print('not found', doc._.language['language'])\n",
        "  return doc\n"
      ],
      "execution_count": 0,
      "outputs": []
    },
    {
      "cell_type": "code",
      "metadata": {
        "id": "AXcAI6uCtiwK",
        "colab_type": "code",
        "colab": {}
      },
      "source": [
        "def find_ident(doc,ident_list,window_w=150):\n",
        "  '''\n",
        "  input spacy doc and list with string identifiers\n",
        "  loops throgh the document and searches for identifiers\n",
        "  if found return a window of words\n",
        "  '''\n",
        "  windows = []\n",
        "  for i, token in enumerate(doc):\n",
        "      if token.text in ident_list:\n",
        "        window = [tok for tok in doc[i-1:i+window_w]]\n",
        "        windows.extend(window)\n",
        "      if doc[i-1].text +' '+ token.text in ident_list:\n",
        "        window = [tok for tok in doc[i-2:i+window_w]]\n",
        "        windows.extend(window)\n",
        "      #print(token.text, token.pos_, token.tag_, token.dep_, token.shape_)\n",
        "  return windows"
      ],
      "execution_count": 0,
      "outputs": []
    },
    {
      "cell_type": "code",
      "metadata": {
        "id": "bHLiEgQhti0t",
        "colab_type": "code",
        "colab": {}
      },
      "source": [
        "def find_number(doc,length=8,min=60,max=200):\n",
        "  '''\n",
        "  scans through a documents for numers between 60 and 200\n",
        "  '''\n",
        "  for tok in doc:\n",
        "    tag = tok.tag_ in ['CD','CARD']\n",
        "    lgt = len(tok.text)<length\n",
        "    try:\n",
        "      num_o = min < float(re.sub('[^0-9.,]', ' ',tok.text).replace(',','.')) < max\n",
        "    except:\n",
        "      bum_o = False\n",
        "      next\n",
        "    if tag and lgt and num_o:\n",
        "      return tok.text"
      ],
      "execution_count": 0,
      "outputs": []
    },
    {
      "cell_type": "code",
      "metadata": {
        "id": "4yp8RLwivVaJ",
        "colab_type": "code",
        "colab": {}
      },
      "source": [
        "def find_issue_price(text):\n",
        "  issue_price_ident = [\"Ausgabepreis\", \"Issue Price\", \"Emissionskurs\"]\n",
        "\n",
        "  doc = multi_corpus(text)\n",
        "  windows = find_ident(doc,issue_price_ident,window_w=150)\n",
        "  no = find_number(windows,length=8,min=60,max=200)\n",
        "  return no"
      ],
      "execution_count": 0,
      "outputs": []
    },
    {
      "cell_type": "code",
      "metadata": {
        "id": "9rxBxjOgE5yS",
        "colab_type": "code",
        "colab": {}
      },
      "source": [
        "def OCR_pdf(path_,file_,no_pages=40):\n",
        "    filename = file_ #path_ + file_ +'/' + file_ +'.pdf' #'target.pdf'\n",
        "    if os.path.exists(path_+ file_+'/extracted_text.txt') == False:\n",
        "\n",
        "        # import pdf to img\n",
        "        with tempfile.TemporaryDirectory() as path:\n",
        "            # mag page number\n",
        "            images_from_path = convert_from_path(filename, output_folder=path, last_page=no_pages, first_page =0)\n",
        "        #filename\n",
        "        base_filename  =  os.path.splitext(os.path.basename(filename))[0] + '.jpg'     \n",
        "        #create folder for images\n",
        "        img_dir = path_ + file_ + '/pdf2img'\n",
        "        try:\n",
        "          os.mkdir(img_dir)\n",
        "        except FileExistsError:\n",
        "          next\n",
        "          #print('check')\n",
        "\n",
        "        text = ''\n",
        "        for i,page in enumerate(images_from_path):\n",
        "            #save as jpg\n",
        "            page.save(os.path.join(img_dir, base_filename+str(i)), 'JPEG')\n",
        "            #read jpg and extract text\n",
        "            text += pytesseract.image_to_string(Image.open(os.path.join(img_dir, base_filename+str(i)))) + ' '\n",
        "            #\n",
        "        file1 = open(path_+ file_+'/extracted_text.txt','w') \n",
        "        file1.writelines(text) \n",
        "        file1.close()\n",
        "\n",
        "        #print(filename,'pages:',len(images_from_path))\n",
        "    else:\n",
        "      next\n",
        "      #print(filename,' allready exists')\n"
      ],
      "execution_count": 0,
      "outputs": []
    },
    {
      "cell_type": "code",
      "metadata": {
        "id": "1xZmo93ST-Yi",
        "colab_type": "code",
        "colab": {}
      },
      "source": [
        "def propro(sen):\n",
        "  sen = sen.lower()\n",
        "  sen = sen.replace('\\n',' ')\n",
        "  sen = sen.replace('%','prozent')\n",
        "  sen = re.sub('[^A-Za-zÄÖÜßäöüß]+', ' ',sen)\n",
        "  #sen = ' '.join([w for w in sen.split() if w not in sw_en])\n",
        "  return sen"
      ],
      "execution_count": 0,
      "outputs": []
    },
    {
      "cell_type": "code",
      "metadata": {
        "id": "OSWIWciTE5sV",
        "colab_type": "code",
        "colab": {}
      },
      "source": [
        "fields_dict = { '001_type':'classification',\n",
        "                '002_issuer_name':'extraction',\n",
        "                '003_product_subclass':'classification',\n",
        "                '004_identifiers':'extraction',\n",
        "                '004_isin':'extraction',\n",
        "                '004_wkn':'extraction',\n",
        "                '005_currency':'classification',\n",
        "                '006_issue_date':'extraction',\n",
        "                '007_issue_price':'extraction',\n",
        "                '008_maturity_date':'extraction',\n",
        "                '009_nominal_amount':'extraction',\n",
        "                '010_redemption_formula':'extraction',\n",
        "                '011_seniority':'classification',\n",
        "                '012_business_day_convention':'classification',\n",
        "                '013_day_count_convention':'classification',\n",
        "                '014_business_day_calendar':'classification',\n",
        "                '015_payment_frequency':'classification',\n",
        "                '017_first_payment_date':'extraction',\n",
        "                '018_payment_dates':'extraction',\n",
        "                '020_paragraph_489':'classification',\n",
        "                '021_formula':'extraction',\n",
        "                '022_legislation':'classification',\n",
        "                '023_amendment':'classification'}"
      ],
      "execution_count": 0,
      "outputs": []
    },
    {
      "cell_type": "code",
      "metadata": {
        "id": "BK8KqdrOnQEr",
        "colab_type": "code",
        "colab": {}
      },
      "source": [
        "def load_and_process():\n",
        "  # path where results are stored\n",
        "  path_ = '/content/gdrive/Shared drives/FS-AI Base Data/predict/'\n",
        "  # upload from loacal drive\n",
        "  uploaded = files.upload()\n",
        "  file_ = str(list(uploaded.keys())[0])\n",
        "  # create folder in outputpath\n",
        "  try:\n",
        "    os.mkdir(path_+file_)\n",
        "  except FileExistsError:\n",
        "    print('Oo')\n",
        "  #create text from pdf\n",
        "  OCR_pdf(path_,file_)\n",
        "  # read and preprocess text\n",
        "  with open(path_+file_+'/extracted_text.txt',\"r\") as file1:\n",
        "    text = ' '.join(file1.readlines())\n",
        "    text_pre = propro(text)\n",
        "    file1.close()\n",
        "  print('text length',len(text_pre))\n",
        "\n",
        "  pdf_extract = {}\n",
        "  # load models and predict classification tasks\n",
        "  for field in fields_dict.keys():\n",
        "    if fields_dict[field]=='classification':\n",
        "      save_path = '/content/gdrive/Shared drives/FS-AI Base Data/models/'\n",
        "      filename = field +'_model.sav'\n",
        "      loaded_model = pickle.load(open(save_path+filename, 'rb'))\n",
        "      pdf_extract[field] = loaded_model.predict([text_pre])[0]\n",
        "\n",
        "  ############################################ include your function here\n",
        "  pdf_extract['007_issue_price'] = find_issue_price(text)\n",
        "  # store dictionary with values\n",
        "\n",
        "  for name in fields_dict.keys():\n",
        "    if name not in pdf_extract:\n",
        "      pdf_extract[name] = 'none'\n",
        "\n",
        "  print(pdf_extract)\n",
        "  with open(path_+'/'+file_+'/values.json', 'w') as fp:\n",
        "      json.dump(pdf_extract, fp)\n",
        "\n",
        "  print('Done')\n",
        "\n"
      ],
      "execution_count": 0,
      "outputs": []
    },
    {
      "cell_type": "markdown",
      "metadata": {
        "id": "HmxAiArm9k01",
        "colab_type": "text"
      },
      "source": [
        "# Execution"
      ]
    },
    {
      "cell_type": "code",
      "metadata": {
        "id": "LdpsqwjVh-iT",
        "colab_type": "code",
        "colab": {
          "base_uri": "https://localhost:8080/",
          "height": 122
        },
        "outputId": "550abed7-e139-4358-e98d-5a34e5b5c856"
      },
      "source": [
        "from google.colab import drive\n",
        "from google.colab import files\n",
        "\n",
        "drive.mount('/content/gdrive')"
      ],
      "execution_count": 10,
      "outputs": [
        {
          "output_type": "stream",
          "text": [
            "Go to this URL in a browser: https://accounts.google.com/o/oauth2/auth?client_id=947318989803-6bn6qk8qdgf4n4g3pfee6491hc0brc4i.apps.googleusercontent.com&redirect_uri=urn%3aietf%3awg%3aoauth%3a2.0%3aoob&response_type=code&scope=email%20https%3a%2f%2fwww.googleapis.com%2fauth%2fdocs.test%20https%3a%2f%2fwww.googleapis.com%2fauth%2fdrive%20https%3a%2f%2fwww.googleapis.com%2fauth%2fdrive.photos.readonly%20https%3a%2f%2fwww.googleapis.com%2fauth%2fpeopleapi.readonly\n",
            "\n",
            "Enter your authorization code:\n",
            "··········\n",
            "Mounted at /content/gdrive\n"
          ],
          "name": "stdout"
        }
      ]
    },
    {
      "cell_type": "code",
      "metadata": {
        "id": "A-l9VsuJnq46",
        "colab_type": "code",
        "colab": {
          "resources": {
            "http://localhost:8080/nbextensions/google.colab/files.js": {
              "data": "Ly8gQ29weXJpZ2h0IDIwMTcgR29vZ2xlIExMQwovLwovLyBMaWNlbnNlZCB1bmRlciB0aGUgQXBhY2hlIExpY2Vuc2UsIFZlcnNpb24gMi4wICh0aGUgIkxpY2Vuc2UiKTsKLy8geW91IG1heSBub3QgdXNlIHRoaXMgZmlsZSBleGNlcHQgaW4gY29tcGxpYW5jZSB3aXRoIHRoZSBMaWNlbnNlLgovLyBZb3UgbWF5IG9idGFpbiBhIGNvcHkgb2YgdGhlIExpY2Vuc2UgYXQKLy8KLy8gICAgICBodHRwOi8vd3d3LmFwYWNoZS5vcmcvbGljZW5zZXMvTElDRU5TRS0yLjAKLy8KLy8gVW5sZXNzIHJlcXVpcmVkIGJ5IGFwcGxpY2FibGUgbGF3IG9yIGFncmVlZCB0byBpbiB3cml0aW5nLCBzb2Z0d2FyZQovLyBkaXN0cmlidXRlZCB1bmRlciB0aGUgTGljZW5zZSBpcyBkaXN0cmlidXRlZCBvbiBhbiAiQVMgSVMiIEJBU0lTLAovLyBXSVRIT1VUIFdBUlJBTlRJRVMgT1IgQ09ORElUSU9OUyBPRiBBTlkgS0lORCwgZWl0aGVyIGV4cHJlc3Mgb3IgaW1wbGllZC4KLy8gU2VlIHRoZSBMaWNlbnNlIGZvciB0aGUgc3BlY2lmaWMgbGFuZ3VhZ2UgZ292ZXJuaW5nIHBlcm1pc3Npb25zIGFuZAovLyBsaW1pdGF0aW9ucyB1bmRlciB0aGUgTGljZW5zZS4KCi8qKgogKiBAZmlsZW92ZXJ2aWV3IEhlbHBlcnMgZm9yIGdvb2dsZS5jb2xhYiBQeXRob24gbW9kdWxlLgogKi8KKGZ1bmN0aW9uKHNjb3BlKSB7CmZ1bmN0aW9uIHNwYW4odGV4dCwgc3R5bGVBdHRyaWJ1dGVzID0ge30pIHsKICBjb25zdCBlbGVtZW50ID0gZG9jdW1lbnQuY3JlYXRlRWxlbWVudCgnc3BhbicpOwogIGVsZW1lbnQudGV4dENvbnRlbnQgPSB0ZXh0OwogIGZvciAoY29uc3Qga2V5IG9mIE9iamVjdC5rZXlzKHN0eWxlQXR0cmlidXRlcykpIHsKICAgIGVsZW1lbnQuc3R5bGVba2V5XSA9IHN0eWxlQXR0cmlidXRlc1trZXldOwogIH0KICByZXR1cm4gZWxlbWVudDsKfQoKLy8gTWF4IG51bWJlciBvZiBieXRlcyB3aGljaCB3aWxsIGJlIHVwbG9hZGVkIGF0IGEgdGltZS4KY29uc3QgTUFYX1BBWUxPQURfU0laRSA9IDEwMCAqIDEwMjQ7Ci8vIE1heCBhbW91bnQgb2YgdGltZSB0byBibG9jayB3YWl0aW5nIGZvciB0aGUgdXNlci4KY29uc3QgRklMRV9DSEFOR0VfVElNRU9VVF9NUyA9IDMwICogMTAwMDsKCmZ1bmN0aW9uIF91cGxvYWRGaWxlcyhpbnB1dElkLCBvdXRwdXRJZCkgewogIGNvbnN0IHN0ZXBzID0gdXBsb2FkRmlsZXNTdGVwKGlucHV0SWQsIG91dHB1dElkKTsKICBjb25zdCBvdXRwdXRFbGVtZW50ID0gZG9jdW1lbnQuZ2V0RWxlbWVudEJ5SWQob3V0cHV0SWQpOwogIC8vIENhY2hlIHN0ZXBzIG9uIHRoZSBvdXRwdXRFbGVtZW50IHRvIG1ha2UgaXQgYXZhaWxhYmxlIGZvciB0aGUgbmV4dCBjYWxsCiAgLy8gdG8gdXBsb2FkRmlsZXNDb250aW51ZSBmcm9tIFB5dGhvbi4KICBvdXRwdXRFbGVtZW50LnN0ZXBzID0gc3RlcHM7CgogIHJldHVybiBfdXBsb2FkRmlsZXNDb250aW51ZShvdXRwdXRJZCk7Cn0KCi8vIFRoaXMgaXMgcm91Z2hseSBhbiBhc3luYyBnZW5lcmF0b3IgKG5vdCBzdXBwb3J0ZWQgaW4gdGhlIGJyb3dzZXIgeWV0KSwKLy8gd2hlcmUgdGhlcmUgYXJlIG11bHRpcGxlIGFzeW5jaHJvbm91cyBzdGVwcyBhbmQgdGhlIFB5dGhvbiBzaWRlIGlzIGdvaW5nCi8vIHRvIHBvbGwgZm9yIGNvbXBsZXRpb24gb2YgZWFjaCBzdGVwLgovLyBUaGlzIHVzZXMgYSBQcm9taXNlIHRvIGJsb2NrIHRoZSBweXRob24gc2lkZSBvbiBjb21wbGV0aW9uIG9mIGVhY2ggc3RlcCwKLy8gdGhlbiBwYXNzZXMgdGhlIHJlc3VsdCBvZiB0aGUgcHJldmlvdXMgc3RlcCBhcyB0aGUgaW5wdXQgdG8gdGhlIG5leHQgc3RlcC4KZnVuY3Rpb24gX3VwbG9hZEZpbGVzQ29udGludWUob3V0cHV0SWQpIHsKICBjb25zdCBvdXRwdXRFbGVtZW50ID0gZG9jdW1lbnQuZ2V0RWxlbWVudEJ5SWQob3V0cHV0SWQpOwogIGNvbnN0IHN0ZXBzID0gb3V0cHV0RWxlbWVudC5zdGVwczsKCiAgY29uc3QgbmV4dCA9IHN0ZXBzLm5leHQob3V0cHV0RWxlbWVudC5sYXN0UHJvbWlzZVZhbHVlKTsKICByZXR1cm4gUHJvbWlzZS5yZXNvbHZlKG5leHQudmFsdWUucHJvbWlzZSkudGhlbigodmFsdWUpID0+IHsKICAgIC8vIENhY2hlIHRoZSBsYXN0IHByb21pc2UgdmFsdWUgdG8gbWFrZSBpdCBhdmFpbGFibGUgdG8gdGhlIG5leHQKICAgIC8vIHN0ZXAgb2YgdGhlIGdlbmVyYXRvci4KICAgIG91dHB1dEVsZW1lbnQubGFzdFByb21pc2VWYWx1ZSA9IHZhbHVlOwogICAgcmV0dXJuIG5leHQudmFsdWUucmVzcG9uc2U7CiAgfSk7Cn0KCi8qKgogKiBHZW5lcmF0b3IgZnVuY3Rpb24gd2hpY2ggaXMgY2FsbGVkIGJldHdlZW4gZWFjaCBhc3luYyBzdGVwIG9mIHRoZSB1cGxvYWQKICogcHJvY2Vzcy4KICogQHBhcmFtIHtzdHJpbmd9IGlucHV0SWQgRWxlbWVudCBJRCBvZiB0aGUgaW5wdXQgZmlsZSBwaWNrZXIgZWxlbWVudC4KICogQHBhcmFtIHtzdHJpbmd9IG91dHB1dElkIEVsZW1lbnQgSUQgb2YgdGhlIG91dHB1dCBkaXNwbGF5LgogKiBAcmV0dXJuIHshSXRlcmFibGU8IU9iamVjdD59IEl0ZXJhYmxlIG9mIG5leHQgc3RlcHMuCiAqLwpmdW5jdGlvbiogdXBsb2FkRmlsZXNTdGVwKGlucHV0SWQsIG91dHB1dElkKSB7CiAgY29uc3QgaW5wdXRFbGVtZW50ID0gZG9jdW1lbnQuZ2V0RWxlbWVudEJ5SWQoaW5wdXRJZCk7CiAgaW5wdXRFbGVtZW50LmRpc2FibGVkID0gZmFsc2U7CgogIGNvbnN0IG91dHB1dEVsZW1lbnQgPSBkb2N1bWVudC5nZXRFbGVtZW50QnlJZChvdXRwdXRJZCk7CiAgb3V0cHV0RWxlbWVudC5pbm5lckhUTUwgPSAnJzsKCiAgY29uc3QgcGlja2VkUHJvbWlzZSA9IG5ldyBQcm9taXNlKChyZXNvbHZlKSA9PiB7CiAgICBpbnB1dEVsZW1lbnQuYWRkRXZlbnRMaXN0ZW5lcignY2hhbmdlJywgKGUpID0+IHsKICAgICAgcmVzb2x2ZShlLnRhcmdldC5maWxlcyk7CiAgICB9KTsKICB9KTsKCiAgY29uc3QgY2FuY2VsID0gZG9jdW1lbnQuY3JlYXRlRWxlbWVudCgnYnV0dG9uJyk7CiAgaW5wdXRFbGVtZW50LnBhcmVudEVsZW1lbnQuYXBwZW5kQ2hpbGQoY2FuY2VsKTsKICBjYW5jZWwudGV4dENvbnRlbnQgPSAnQ2FuY2VsIHVwbG9hZCc7CiAgY29uc3QgY2FuY2VsUHJvbWlzZSA9IG5ldyBQcm9taXNlKChyZXNvbHZlKSA9PiB7CiAgICBjYW5jZWwub25jbGljayA9ICgpID0+IHsKICAgICAgcmVzb2x2ZShudWxsKTsKICAgIH07CiAgfSk7CgogIC8vIENhbmNlbCB1cGxvYWQgaWYgdXNlciBoYXNuJ3QgcGlja2VkIGFueXRoaW5nIGluIHRpbWVvdXQuCiAgY29uc3QgdGltZW91dFByb21pc2UgPSBuZXcgUHJvbWlzZSgocmVzb2x2ZSkgPT4gewogICAgc2V0VGltZW91dCgoKSA9PiB7CiAgICAgIHJlc29sdmUobnVsbCk7CiAgICB9LCBGSUxFX0NIQU5HRV9USU1FT1VUX01TKTsKICB9KTsKCiAgLy8gV2FpdCBmb3IgdGhlIHVzZXIgdG8gcGljayB0aGUgZmlsZXMuCiAgY29uc3QgZmlsZXMgPSB5aWVsZCB7CiAgICBwcm9taXNlOiBQcm9taXNlLnJhY2UoW3BpY2tlZFByb21pc2UsIHRpbWVvdXRQcm9taXNlLCBjYW5jZWxQcm9taXNlXSksCiAgICByZXNwb25zZTogewogICAgICBhY3Rpb246ICdzdGFydGluZycsCiAgICB9CiAgfTsKCiAgaWYgKCFmaWxlcykgewogICAgcmV0dXJuIHsKICAgICAgcmVzcG9uc2U6IHsKICAgICAgICBhY3Rpb246ICdjb21wbGV0ZScsCiAgICAgIH0KICAgIH07CiAgfQoKICBjYW5jZWwucmVtb3ZlKCk7CgogIC8vIERpc2FibGUgdGhlIGlucHV0IGVsZW1lbnQgc2luY2UgZnVydGhlciBwaWNrcyBhcmUgbm90IGFsbG93ZWQuCiAgaW5wdXRFbGVtZW50LmRpc2FibGVkID0gdHJ1ZTsKCiAgZm9yIChjb25zdCBmaWxlIG9mIGZpbGVzKSB7CiAgICBjb25zdCBsaSA9IGRvY3VtZW50LmNyZWF0ZUVsZW1lbnQoJ2xpJyk7CiAgICBsaS5hcHBlbmQoc3BhbihmaWxlLm5hbWUsIHtmb250V2VpZ2h0OiAnYm9sZCd9KSk7CiAgICBsaS5hcHBlbmQoc3BhbigKICAgICAgICBgKCR7ZmlsZS50eXBlIHx8ICduL2EnfSkgLSAke2ZpbGUuc2l6ZX0gYnl0ZXMsIGAgKwogICAgICAgIGBsYXN0IG1vZGlmaWVkOiAkewogICAgICAgICAgICBmaWxlLmxhc3RNb2RpZmllZERhdGUgPyBmaWxlLmxhc3RNb2RpZmllZERhdGUudG9Mb2NhbGVEYXRlU3RyaW5nKCkgOgogICAgICAgICAgICAgICAgICAgICAgICAgICAgICAgICAgICAnbi9hJ30gLSBgKSk7CiAgICBjb25zdCBwZXJjZW50ID0gc3BhbignMCUgZG9uZScpOwogICAgbGkuYXBwZW5kQ2hpbGQocGVyY2VudCk7CgogICAgb3V0cHV0RWxlbWVudC5hcHBlbmRDaGlsZChsaSk7CgogICAgY29uc3QgZmlsZURhdGFQcm9taXNlID0gbmV3IFByb21pc2UoKHJlc29sdmUpID0+IHsKICAgICAgY29uc3QgcmVhZGVyID0gbmV3IEZpbGVSZWFkZXIoKTsKICAgICAgcmVhZGVyLm9ubG9hZCA9IChlKSA9PiB7CiAgICAgICAgcmVzb2x2ZShlLnRhcmdldC5yZXN1bHQpOwogICAgICB9OwogICAgICByZWFkZXIucmVhZEFzQXJyYXlCdWZmZXIoZmlsZSk7CiAgICB9KTsKICAgIC8vIFdhaXQgZm9yIHRoZSBkYXRhIHRvIGJlIHJlYWR5LgogICAgbGV0IGZpbGVEYXRhID0geWllbGQgewogICAgICBwcm9taXNlOiBmaWxlRGF0YVByb21pc2UsCiAgICAgIHJlc3BvbnNlOiB7CiAgICAgICAgYWN0aW9uOiAnY29udGludWUnLAogICAgICB9CiAgICB9OwoKICAgIC8vIFVzZSBhIGNodW5rZWQgc2VuZGluZyB0byBhdm9pZCBtZXNzYWdlIHNpemUgbGltaXRzLiBTZWUgYi82MjExNTY2MC4KICAgIGxldCBwb3NpdGlvbiA9IDA7CiAgICB3aGlsZSAocG9zaXRpb24gPCBmaWxlRGF0YS5ieXRlTGVuZ3RoKSB7CiAgICAgIGNvbnN0IGxlbmd0aCA9IE1hdGgubWluKGZpbGVEYXRhLmJ5dGVMZW5ndGggLSBwb3NpdGlvbiwgTUFYX1BBWUxPQURfU0laRSk7CiAgICAgIGNvbnN0IGNodW5rID0gbmV3IFVpbnQ4QXJyYXkoZmlsZURhdGEsIHBvc2l0aW9uLCBsZW5ndGgpOwogICAgICBwb3NpdGlvbiArPSBsZW5ndGg7CgogICAgICBjb25zdCBiYXNlNjQgPSBidG9hKFN0cmluZy5mcm9tQ2hhckNvZGUuYXBwbHkobnVsbCwgY2h1bmspKTsKICAgICAgeWllbGQgewogICAgICAgIHJlc3BvbnNlOiB7CiAgICAgICAgICBhY3Rpb246ICdhcHBlbmQnLAogICAgICAgICAgZmlsZTogZmlsZS5uYW1lLAogICAgICAgICAgZGF0YTogYmFzZTY0LAogICAgICAgIH0sCiAgICAgIH07CiAgICAgIHBlcmNlbnQudGV4dENvbnRlbnQgPQogICAgICAgICAgYCR7TWF0aC5yb3VuZCgocG9zaXRpb24gLyBmaWxlRGF0YS5ieXRlTGVuZ3RoKSAqIDEwMCl9JSBkb25lYDsKICAgIH0KICB9CgogIC8vIEFsbCBkb25lLgogIHlpZWxkIHsKICAgIHJlc3BvbnNlOiB7CiAgICAgIGFjdGlvbjogJ2NvbXBsZXRlJywKICAgIH0KICB9Owp9CgpzY29wZS5nb29nbGUgPSBzY29wZS5nb29nbGUgfHwge307CnNjb3BlLmdvb2dsZS5jb2xhYiA9IHNjb3BlLmdvb2dsZS5jb2xhYiB8fCB7fTsKc2NvcGUuZ29vZ2xlLmNvbGFiLl9maWxlcyA9IHsKICBfdXBsb2FkRmlsZXMsCiAgX3VwbG9hZEZpbGVzQ29udGludWUsCn07Cn0pKHNlbGYpOwo=",
              "ok": true,
              "headers": [
                [
                  "content-type",
                  "application/javascript"
                ]
              ],
              "status": 200,
              "status_text": ""
            }
          },
          "base_uri": "https://localhost:8080/",
          "height": 162
        },
        "outputId": "7eb20451-cf39-440c-8f1f-0dfb65733a34"
      },
      "source": [
        "#try it twice ;)\n",
        "load_and_process()"
      ],
      "execution_count": 63,
      "outputs": [
        {
          "output_type": "display_data",
          "data": {
            "text/html": [
              "\n",
              "     <input type=\"file\" id=\"files-2b5aaeea-9b7d-4614-8bf9-27c3c2dff447\" name=\"files[]\" multiple disabled />\n",
              "     <output id=\"result-2b5aaeea-9b7d-4614-8bf9-27c3c2dff447\">\n",
              "      Upload widget is only available when the cell has been executed in the\n",
              "      current browser session. Please rerun this cell to enable.\n",
              "      </output>\n",
              "      <script src=\"/nbextensions/google.colab/files.js\"></script> "
            ],
            "text/plain": [
              "<IPython.core.display.HTML object>"
            ]
          },
          "metadata": {
            "tags": []
          }
        },
        {
          "output_type": "stream",
          "text": [
            "Saving Final_Terms_BASF-2018-2025.pdf to Final_Terms_BASF-2018-2025 (5).pdf\n",
            "Oo\n",
            "text length 115379\n",
            "{'001_type': 'Floating', '003_product_subclass': 'Bond', '005_currency': 'EUR', '011_seniority': '', '012_business_day_convention': 'no_class', '013_day_count_convention': 'act/act', '014_business_day_calendar': 'TARGET2', '015_payment_frequency': '1', '020_paragraph_489': 'no_class', '022_legislation': 'no_class', '023_amendment': 'no_class', '007_issue_price': '99.568', '002_issuer_name': 'none', '004_identifiers': 'none', '004_isin': 'none', '004_wkn': 'none', '006_issue_date': 'none', '008_maturity_date': 'none', '009_nominal_amount': 'none', '010_redemption_formula': 'none', '017_first_payment_date': 'none', '018_payment_dates': 'none', '021_formula': 'none'}\n",
            "Done\n"
          ],
          "name": "stdout"
        }
      ]
    },
    {
      "cell_type": "code",
      "metadata": {
        "id": "zySLI4WV-6vS",
        "colab_type": "code",
        "colab": {}
      },
      "source": [
        ""
      ],
      "execution_count": 0,
      "outputs": []
    }
  ]
}