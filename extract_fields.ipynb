{
  "nbformat": 4,
  "nbformat_minor": 0,
  "metadata": {
    "colab": {
      "name": "extract_fields.ipynb",
      "provenance": [],
      "collapsed_sections": [],
      "include_colab_link": true
    },
    "kernelspec": {
      "name": "python3",
      "display_name": "Python 3"
    }
  },
  "cells": [
    {
      "cell_type": "markdown",
      "metadata": {
        "id": "view-in-github",
        "colab_type": "text"
      },
      "source": [
        "<a href=\"https://colab.research.google.com/github/ELehmann91/NLP-Contract-Analysis/blob/master/extract_fields.ipynb\" target=\"_parent\"><img src=\"https://colab.research.google.com/assets/colab-badge.svg\" alt=\"Open In Colab\"/></a>"
      ]
    },
    {
      "cell_type": "markdown",
      "metadata": {
        "id": "wjIaiSZAHxJi",
        "colab_type": "text"
      },
      "source": [
        "## Import"
      ]
    },
    {
      "cell_type": "code",
      "metadata": {
        "id": "6oOAw5UYFOfh",
        "colab_type": "code",
        "colab": {}
      },
      "source": [
        "%%capture#\n",
        "!pip install PyPDF2\n",
        "!pip install spacy\n",
        "!pip install spacy-langdetect\n",
        "!python -m spacy download en_core_web_sm\n",
        "!python -m spacy download de_core_news_sm"
      ],
      "execution_count": 0,
      "outputs": []
    },
    {
      "cell_type": "code",
      "metadata": {
        "id": "LzqUh1PHFO10",
        "colab_type": "code",
        "colab": {}
      },
      "source": [
        "import os\n",
        "import json\n",
        "import pandas as pd\n",
        "import PyPDF2\n",
        "import re\n",
        "import spacy\n",
        "nlp_en = spacy.load(\"en_core_web_sm\")\n",
        "nlp_de = spacy.load(\"de_core_news_sm\")\n",
        "from spacy.matcher import PhraseMatcher\n",
        "from spacy_langdetect import LanguageDetector"
      ],
      "execution_count": 0,
      "outputs": []
    },
    {
      "cell_type": "markdown",
      "metadata": {
        "id": "2-DHpTXpH1aW",
        "colab_type": "text"
      },
      "source": [
        "## Read PDF"
      ]
    },
    {
      "cell_type": "code",
      "metadata": {
        "id": "IG8UAcxrB05e",
        "colab_type": "code",
        "outputId": "405bd93d-ead3-40e4-954a-e908bdf2ccf9",
        "colab": {
          "base_uri": "https://localhost:8080/",
          "height": 34
        }
      },
      "source": [
        "from google.colab import drive\n",
        "\n",
        "drive.mount('/content/gdrive')"
      ],
      "execution_count": 2,
      "outputs": [
        {
          "output_type": "stream",
          "text": [
            "Drive already mounted at /content/gdrive; to attempt to forcibly remount, call drive.mount(\"/content/gdrive\", force_remount=True).\n"
          ],
          "name": "stdout"
        }
      ]
    },
    {
      "cell_type": "code",
      "metadata": {
        "id": "BXI6iU31B3oM",
        "colab_type": "code",
        "outputId": "b263fb22-22cc-4ac4-b828-900d0f063d02",
        "colab": {
          "base_uri": "https://localhost:8080/",
          "height": 34
        }
      },
      "source": [
        "path = '/content/gdrive/Shared drives/FS-AI Base Data/innolytiq_pdf/'\n",
        "file_list = os.listdir(path)\n",
        "len(file_list)"
      ],
      "execution_count": 3,
      "outputs": [
        {
          "output_type": "execute_result",
          "data": {
            "text/plain": [
              "149"
            ]
          },
          "metadata": {
            "tags": []
          },
          "execution_count": 3
        }
      ]
    },
    {
      "cell_type": "code",
      "metadata": {
        "id": "YijevO6sIAAd",
        "colab_type": "code",
        "colab": {
          "base_uri": "https://localhost:8080/",
          "height": 34
        },
        "outputId": "afd10392-de88-4ddb-8f2b-8a84c7f15c18"
      },
      "source": [
        "file = file_list[89]\n",
        "\n",
        "with open(path+file+'/'+file+'.pdf', 'rb') as pdfFileObj:\n",
        "    pdfReader = PyPDF2.PdfFileReader(pdfFileObj)\n",
        "    try:\n",
        "        pdf_text = ' '.join([pdfReader.getPage(i).extractText() for i in range(0,min(pdfReader.numPages,50))]).replace('\\n',' ')\n",
        "    except:\n",
        "      print('cant read '+file)\n",
        "\n",
        "print('name:',file,'words:',len(pdf_text.split()))"
      ],
      "execution_count": 52,
      "outputs": [
        {
          "output_type": "stream",
          "text": [
            "name: final_terms_isin_xs1529948934.pdf words: 2879\n"
          ],
          "name": "stdout"
        }
      ]
    },
    {
      "cell_type": "code",
      "metadata": {
        "id": "yj0ubxOfOIQe",
        "colab_type": "code",
        "colab": {}
      },
      "source": [
        "def proW(w):\n",
        "  w = w.lower()\n",
        "  w = w.strip()\n",
        "  w = re.sub('[^A-Za-zÄÖÜßäöüß]+', '',w)\n",
        "  return w"
      ],
      "execution_count": 0,
      "outputs": []
    },
    {
      "cell_type": "code",
      "metadata": {
        "id": "_OHLPKGeG3Dk",
        "colab_type": "code",
        "colab": {}
      },
      "source": [
        "#\"Festverzinsliche\", 'fixed'\n",
        "#pdf_text.lower().find('ausgabepreis')"
      ],
      "execution_count": 0,
      "outputs": []
    },
    {
      "cell_type": "code",
      "metadata": {
        "id": "KMLVaZzsHDw2",
        "colab_type": "code",
        "colab": {}
      },
      "source": [
        "#pdf_text[626:648]"
      ],
      "execution_count": 0,
      "outputs": []
    },
    {
      "cell_type": "code",
      "metadata": {
        "id": "i-Ir-CpNHJQF",
        "colab_type": "code",
        "colab": {}
      },
      "source": [
        "#a = [ i for i,t in enumerate(pdf_text.split()) if proW(t) == 'ausgabepreis']\n",
        "#a"
      ],
      "execution_count": 0,
      "outputs": []
    },
    {
      "cell_type": "markdown",
      "metadata": {
        "id": "TEfcdRvLQtY7",
        "colab_type": "text"
      },
      "source": [
        "## Functions find extraction"
      ]
    },
    {
      "cell_type": "code",
      "metadata": {
        "id": "ElyQt3uOVtgy",
        "colab_type": "code",
        "colab": {}
      },
      "source": [
        "def multi_corpus(text):\n",
        "  '''\n",
        "  check if german or english and use spacy language model accordingly \n",
        "  return spacy doc\n",
        "  '''\n",
        "  nlp = spacy.load('en')\n",
        "  nlp.add_pipe(LanguageDetector(), name='language_detector', last=True)\n",
        "  doc = nlp(text)\n",
        "  # document level language detection. Think of it like average language of the document!\n",
        "  if doc._.language['language'] == 'en':\n",
        "    doc = nlp_en(text)\n",
        "  elif doc._.language['language'] == 'de':\n",
        "    doc = nlp_en(text)\n",
        "  else:\n",
        "    print('not found', doc._.language['language'])\n",
        "  return doc\n",
        "\n"
      ],
      "execution_count": 0,
      "outputs": []
    },
    {
      "cell_type": "code",
      "metadata": {
        "id": "NJVraGZcT_1E",
        "colab_type": "code",
        "colab": {}
      },
      "source": [
        "def find_ident(doc,ident_list):\n",
        "    for i, token in enumerate(doc):\n",
        "        if token.text in ident_list:\n",
        "          window = [tok for tok in doc[i-3:i+6]]\n",
        "        if doc[i].text +' '+ token.text in ident_list:\n",
        "          window = [tok.text for tok in doc[i-3:i+6]]\n",
        "        #print(token.text, token.pos_, token.tag_, token.dep_, token.shape_)\n",
        "    return window"
      ],
      "execution_count": 0,
      "outputs": []
    },
    {
      "cell_type": "code",
      "metadata": {
        "id": "iXo3oznXPf2d",
        "colab_type": "code",
        "colab": {}
      },
      "source": [
        "def find_number(doc):\n",
        "    for tok in doc:\n",
        "        if tok.tag_ == 'CD':\n",
        "          return tok.text"
      ],
      "execution_count": 0,
      "outputs": []
    },
    {
      "cell_type": "markdown",
      "metadata": {
        "id": "ZMZR5YcGRAl_",
        "colab_type": "text"
      },
      "source": [
        "## test"
      ]
    },
    {
      "cell_type": "code",
      "metadata": {
        "id": "PDHsuA3uQ3bn",
        "colab_type": "code",
        "colab": {}
      },
      "source": [
        "doc = multi_corpus(pdf_text)"
      ],
      "execution_count": 0,
      "outputs": []
    },
    {
      "cell_type": "code",
      "metadata": {
        "id": "XDwLC9_uQ3jc",
        "colab_type": "code",
        "colab": {
          "base_uri": "https://localhost:8080/",
          "height": 34
        },
        "outputId": "497ad615-069b-4dcb-d275-d3c277a8e45f"
      },
      "source": [
        "issue_price_ident = [\"Ausgabepreis\", \"Issue Price\", \"Emissionskurs\"]\n",
        "window = find_ident(doc,issue_price_ident)\n",
        "window"
      ],
      "execution_count": 81,
      "outputs": [
        {
          "output_type": "execute_result",
          "data": {
            "text/plain": [
              "[cent, .,   , Ausgabepreis, :, 100,00, %,   , Issue]"
            ]
          },
          "metadata": {
            "tags": []
          },
          "execution_count": 81
        }
      ]
    },
    {
      "cell_type": "code",
      "metadata": {
        "id": "EqvRW-ZbPztN",
        "colab_type": "code",
        "colab": {
          "base_uri": "https://localhost:8080/",
          "height": 34
        },
        "outputId": "49fa7bdf-0178-4067-9817-1926786cb28e"
      },
      "source": [
        "no = find_number(window)\n",
        "no"
      ],
      "execution_count": 82,
      "outputs": [
        {
          "output_type": "execute_result",
          "data": {
            "text/plain": [
              "'100,00'"
            ]
          },
          "metadata": {
            "tags": []
          },
          "execution_count": 82
        }
      ]
    },
    {
      "cell_type": "code",
      "metadata": {
        "id": "HwL-hYTARmyJ",
        "colab_type": "code",
        "colab": {}
      },
      "source": [
        ""
      ],
      "execution_count": 0,
      "outputs": []
    }
  ]
}