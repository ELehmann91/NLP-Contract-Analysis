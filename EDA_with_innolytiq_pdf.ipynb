{
  "nbformat": 4,
  "nbformat_minor": 0,
  "metadata": {
    "colab": {
      "name": "EDA with innolytiq_pdf",
      "provenance": [],
      "collapsed_sections": [],
      "include_colab_link": true
    },
    "kernelspec": {
      "name": "python3",
      "display_name": "Python 3"
    },
    "accelerator": "GPU"
  },
  "cells": [
    {
      "cell_type": "markdown",
      "metadata": {
        "id": "view-in-github",
        "colab_type": "text"
      },
      "source": [
        "<a href=\"https://colab.research.google.com/github/ELehmann91/NLP-Contract-Analysis/blob/master/EDA_with_innolytiq_pdf.ipynb\" target=\"_parent\"><img src=\"https://colab.research.google.com/assets/colab-badge.svg\" alt=\"Open In Colab\"/></a>"
      ]
    },
    {
      "cell_type": "code",
      "metadata": {
        "id": "w_Z2Ae40TbW_",
        "colab_type": "code",
        "colab": {}
      },
      "source": [
        "import pandas as pd\n",
        "import numpy as np\n",
        "import os\n",
        "import json"
      ],
      "execution_count": 0,
      "outputs": []
    },
    {
      "cell_type": "code",
      "metadata": {
        "id": "IgbEA0wPKMgi",
        "colab_type": "code",
        "outputId": "d400640e-173b-43e6-8dd3-3224b24d176d",
        "colab": {
          "base_uri": "https://localhost:8080/",
          "height": 121
        }
      },
      "source": [
        "from google.colab import drive\n",
        "\n",
        "drive.mount('/content/gdrive')"
      ],
      "execution_count": 0,
      "outputs": [
        {
          "output_type": "stream",
          "text": [
            "Go to this URL in a browser: https://accounts.google.com/o/oauth2/auth?client_id=947318989803-6bn6qk8qdgf4n4g3pfee6491hc0brc4i.apps.googleusercontent.com&redirect_uri=urn%3aietf%3awg%3aoauth%3a2.0%3aoob&response_type=code&scope=email%20https%3a%2f%2fwww.googleapis.com%2fauth%2fdocs.test%20https%3a%2f%2fwww.googleapis.com%2fauth%2fdrive%20https%3a%2f%2fwww.googleapis.com%2fauth%2fdrive.photos.readonly%20https%3a%2f%2fwww.googleapis.com%2fauth%2fpeopleapi.readonly\n",
            "\n",
            "Enter your authorization code:\n",
            "··········\n",
            "Mounted at /content/gdrive\n"
          ],
          "name": "stdout"
        }
      ]
    },
    {
      "cell_type": "code",
      "metadata": {
        "id": "rZeNd0m3M5oK",
        "colab_type": "code",
        "outputId": "b1e04027-0ccf-45cc-a7bd-6fa5a63e7454",
        "colab": {
          "base_uri": "https://localhost:8080/",
          "height": 34
        }
      },
      "source": [
        "path = '/content/gdrive/Shared drives/FS-AI Base Data/innolytiq_pdf/'\n",
        "!ls '/content/gdrive/Shared drives/FS-AI Base Data/innolytiq_pdf/xs1191881306.pdf/data.json'"
      ],
      "execution_count": 0,
      "outputs": [
        {
          "output_type": "stream",
          "text": [
            "'/content/gdrive/Shared drives/FS-AI Base Data/innolytiq_pdf/xs1191881306.pdf/data.json'\n"
          ],
          "name": "stdout"
        }
      ]
    },
    {
      "cell_type": "code",
      "metadata": {
        "id": "fElJQMtrT87L",
        "colab_type": "code",
        "outputId": "cdeaf47a-e69c-4199-848a-e5478ca0390d",
        "colab": {
          "base_uri": "https://localhost:8080/",
          "height": 34
        }
      },
      "source": [
        "file_list = os.listdir(path)\n",
        "len(file_list)"
      ],
      "execution_count": 0,
      "outputs": [
        {
          "output_type": "execute_result",
          "data": {
            "text/plain": [
              "76"
            ]
          },
          "metadata": {
            "tags": []
          },
          "execution_count": 4
        }
      ]
    },
    {
      "cell_type": "code",
      "metadata": {
        "id": "y4FjI1pDUEkD",
        "colab_type": "code",
        "outputId": "ca781bdc-ec14-4cc1-8af1-5745764ac931",
        "colab": {
          "base_uri": "https://localhost:8080/",
          "height": 34
        }
      },
      "source": [
        "print(path + file_list[0]+'/data.json')"
      ],
      "execution_count": 0,
      "outputs": [
        {
          "output_type": "stream",
          "text": [
            "/content/gdrive/Shared drives/FS-AI Base Data/innolytiq_pdf/erfurter_bank_eg.pdf/data.json\n"
          ],
          "name": "stdout"
        }
      ]
    },
    {
      "cell_type": "markdown",
      "metadata": {
        "id": "cmq3J7F1ViRl",
        "colab_type": "text"
      },
      "source": [
        "# Example File\n"
      ]
    },
    {
      "cell_type": "code",
      "metadata": {
        "id": "u8qhXBz8UEnl",
        "colab_type": "code",
        "outputId": "9364a46d-d3b5-4b29-b4ab-31838a871d18",
        "colab": {
          "base_uri": "https://localhost:8080/",
          "height": 138
        }
      },
      "source": [
        "with open(path + file_list[0]+'/data.json', encoding=\"utf8\") as json_file:\n",
        "    data = json.load(json_file)\n",
        "    for line in data['output'][:3]:\n",
        "        print(line)\n",
        "        print()"
      ],
      "execution_count": 0,
      "outputs": [
        {
          "output_type": "stream",
          "text": [
            "{'id': '5d9a6f1faaa2b70012237ccd', 'name': '006_issue_date', 'data': [{'top': '32.1883%', 'left': '61.1317%', 'width': '9.27644%', 'height': '1.573982939632546%', 'value': '22.02.2013', 'page': 1}]}\n",
            "\n",
            "{'id': '5d9a6ff4aaa2b70012237ce1', 'name': '009_nominal_amount', 'description': 'EUR nominal of the issue', 'data': [{'top': '25.5151%', 'left': '35.9926%', 'width': '10.383858998144714%', 'height': '2.164534120734908%', 'value': '5.000.000,00', 'page': 1}]}\n",
            "\n",
            "{'id': '5d9a6fc1aaa2b70012237cd4', 'name': '008_maturity_date', 'data': [{'top': '37.6115%', 'left': '48.1447%', 'width': '8.806818181818182%', 'height': '2.098917322834646%', 'value': '22.02.2022', 'page': 1}]}\n",
            "\n"
          ],
          "name": "stdout"
        }
      ]
    },
    {
      "cell_type": "markdown",
      "metadata": {
        "id": "egWtmRfNVpW6",
        "colab_type": "text"
      },
      "source": [
        "# Create list of fields for Dataframe"
      ]
    },
    {
      "cell_type": "code",
      "metadata": {
        "id": "c_Gb82SaUErW",
        "colab_type": "code",
        "colab": {}
      },
      "source": [
        "name_list = []\n",
        "\n",
        "with open(path + file_list[0]+'/data.json', encoding=\"utf8\") as json_file:\n",
        "    data = json.load(json_file)\n",
        "    for line in data['output']:\n",
        "        try: #line['members'] is not None:\n",
        "            name_list.append(line['name'])\n",
        "        except:\n",
        "            print(line)"
      ],
      "execution_count": 0,
      "outputs": []
    },
    {
      "cell_type": "code",
      "metadata": {
        "id": "g_6d3QA6VTXg",
        "colab_type": "code",
        "colab": {}
      },
      "source": [
        "df_ = pd.DataFrame(index=file_list, columns=name_list)\n",
        "df_ = df_.fillna(0) # with 0s rather than NaNs"
      ],
      "execution_count": 0,
      "outputs": []
    },
    {
      "cell_type": "markdown",
      "metadata": {
        "id": "JK8I-A3BVuBk",
        "colab_type": "text"
      },
      "source": [
        "## Create Dataframe"
      ]
    },
    {
      "cell_type": "code",
      "metadata": {
        "id": "NpNflx2SVWnd",
        "colab_type": "code",
        "colab": {}
      },
      "source": [
        "for file in file_list:\n",
        "    with open(path+file+'/data.json', encoding=\"utf8\") as json_file:\n",
        "        data = json.load(json_file)\n",
        "        #print(data)\n",
        "        try:\n",
        "            for line in data['output']:\n",
        "                try: # line['members'] is not None:\n",
        "                    df_.loc[df_.index==file,line['name']] = line['data'][0]['value']\n",
        "                except:\n",
        "                    pass\n",
        "                    #print(line['name'])\n",
        "        except KeyError:\n",
        "            print(file)"
      ],
      "execution_count": 0,
      "outputs": []
    },
    {
      "cell_type": "code",
      "metadata": {
        "id": "vqI5YPqSVZLv",
        "colab_type": "code",
        "outputId": "ba6707b3-41b6-4b62-c825-a7630edef912",
        "colab": {
          "base_uri": "https://localhost:8080/",
          "height": 842
        }
      },
      "source": [
        "df_"
      ],
      "execution_count": 0,
      "outputs": [
        {
          "output_type": "execute_result",
          "data": {
            "text/html": [
              "<div>\n",
              "<style scoped>\n",
              "    .dataframe tbody tr th:only-of-type {\n",
              "        vertical-align: middle;\n",
              "    }\n",
              "\n",
              "    .dataframe tbody tr th {\n",
              "        vertical-align: top;\n",
              "    }\n",
              "\n",
              "    .dataframe thead th {\n",
              "        text-align: right;\n",
              "    }\n",
              "</style>\n",
              "<table border=\"1\" class=\"dataframe\">\n",
              "  <thead>\n",
              "    <tr style=\"text-align: right;\">\n",
              "      <th></th>\n",
              "      <th>006_issue_date</th>\n",
              "      <th>009_nominal_amount</th>\n",
              "      <th>008_maturity_date</th>\n",
              "      <th>010_redemption_formula</th>\n",
              "      <th>011_seniority</th>\n",
              "      <th>012_business_day_convention</th>\n",
              "      <th>014_business_day_calendar</th>\n",
              "      <th>017_first_payment_date</th>\n",
              "      <th>018_payment_dates</th>\n",
              "      <th>021_formula</th>\n",
              "      <th>002_issuer_name</th>\n",
              "      <th>020_paragraph_489</th>\n",
              "      <th>004_identifiers</th>\n",
              "      <th>007_issue_price</th>\n",
              "      <th>003_product_subclass</th>\n",
              "      <th>015_payment_frequency</th>\n",
              "      <th>005_currency</th>\n",
              "      <th>013_day_count_convention</th>\n",
              "      <th>001_type</th>\n",
              "      <th>004_wkn</th>\n",
              "      <th>004_isin</th>\n",
              "      <th>023_amendment</th>\n",
              "      <th>022_legislation</th>\n",
              "    </tr>\n",
              "  </thead>\n",
              "  <tbody>\n",
              "    <tr>\n",
              "      <th>erfurter_bank_eg.pdf</th>\n",
              "      <td>22.02.2013</td>\n",
              "      <td>5.000.000,00</td>\n",
              "      <td>22.02.2022</td>\n",
              "      <td>Nennwert</td>\n",
              "      <td></td>\n",
              "      <td></td>\n",
              "      <td></td>\n",
              "      <td>22.02.2014</td>\n",
              "      <td>22.02.</td>\n",
              "      <td>2,34 Prozent</td>\n",
              "      <td>Die Erfurter Bank eG</td>\n",
              "      <td></td>\n",
              "      <td>0</td>\n",
              "      <td>100,00%</td>\n",
              "      <td>Schuldschein</td>\n",
              "      <td>1</td>\n",
              "      <td>EUR</td>\n",
              "      <td>act/act</td>\n",
              "      <td>Fixed</td>\n",
              "      <td></td>\n",
              "      <td></td>\n",
              "      <td>no_amendment</td>\n",
              "      <td>Ger</td>\n",
              "    </tr>\n",
              "    <tr>\n",
              "      <th>de000dr0q3k7_en.pdf</th>\n",
              "      <td>23 July 2008</td>\n",
              "      <td>100,000,000</td>\n",
              "      <td>21 September 2012</td>\n",
              "      <td>100%</td>\n",
              "      <td></td>\n",
              "      <td></td>\n",
              "      <td></td>\n",
              "      <td>21 September 2009</td>\n",
              "      <td>21 September 2009 \\n21 September 2010 \\n21 Sep...</td>\n",
              "      <td>10 years EURO - Swap minus 2 years EURO Swap a...</td>\n",
              "      <td>Dresdner Bank Aktiengesellschaft, Frankfurt am...</td>\n",
              "      <td></td>\n",
              "      <td>0</td>\n",
              "      <td>100</td>\n",
              "      <td>other Loan</td>\n",
              "      <td>1</td>\n",
              "      <td>EUR</td>\n",
              "      <td></td>\n",
              "      <td>Floating</td>\n",
              "      <td>DR0Q3K</td>\n",
              "      <td>DE 000 DR0 Q3K 7</td>\n",
              "      <td>no_amendment</td>\n",
              "      <td>Ger</td>\n",
              "    </tr>\n",
              "    <tr>\n",
              "      <th>xf0000056977_-_fresenius_se.pdf</th>\n",
              "      <td>January 31, 2017</td>\n",
              "      <td>246000000</td>\n",
              "      <td>January 31, 2024</td>\n",
              "      <td></td>\n",
              "      <td></td>\n",
              "      <td></td>\n",
              "      <td>TARGET2</td>\n",
              "      <td>January 31, 2018</td>\n",
              "      <td></td>\n",
              "      <td></td>\n",
              "      <td>Fresenius SE &amp; Co. KGa</td>\n",
              "      <td>Excluded</td>\n",
              "      <td>0</td>\n",
              "      <td></td>\n",
              "      <td>Schuldschein</td>\n",
              "      <td>1</td>\n",
              "      <td>EUR</td>\n",
              "      <td>Act/act ICMA</td>\n",
              "      <td>Fixed</td>\n",
              "      <td></td>\n",
              "      <td></td>\n",
              "      <td>no_amendment</td>\n",
              "      <td>Ger</td>\n",
              "    </tr>\n",
              "    <tr>\n",
              "      <th>xf7000001779.pdf</th>\n",
              "      <td>22.06.2015</td>\n",
              "      <td>10.000.000</td>\n",
              "      <td>22.06.2023</td>\n",
              "      <td></td>\n",
              "      <td></td>\n",
              "      <td></td>\n",
              "      <td></td>\n",
              "      <td>22.06.2016</td>\n",
              "      <td>22.06.</td>\n",
              "      <td>1,00%</td>\n",
              "      <td>Münchener Hypothekenbank eG</td>\n",
              "      <td></td>\n",
              "      <td>0</td>\n",
              "      <td></td>\n",
              "      <td>Schuldschein</td>\n",
              "      <td>1</td>\n",
              "      <td></td>\n",
              "      <td>Act/act ICMA</td>\n",
              "      <td>Fixed</td>\n",
              "      <td></td>\n",
              "      <td>XF7000001779</td>\n",
              "      <td>no_amendment</td>\n",
              "      <td></td>\n",
              "    </tr>\n",
              "    <tr>\n",
              "      <th>xf0000053353_-_bayern_lb_nasv.pdf</th>\n",
              "      <td></td>\n",
              "      <td>2.000.000,--</td>\n",
              "      <td>11.September.2023</td>\n",
              "      <td>zu pari</td>\n",
              "      <td></td>\n",
              "      <td></td>\n",
              "      <td></td>\n",
              "      <td>11.September. 2009</td>\n",
              "      <td>11.September</td>\n",
              "      <td>5,40 %</td>\n",
              "      <td>Bayerische Landesbank, München</td>\n",
              "      <td></td>\n",
              "      <td>0</td>\n",
              "      <td></td>\n",
              "      <td>Schuldschein</td>\n",
              "      <td>1</td>\n",
              "      <td>EUR</td>\n",
              "      <td>Act/act ICMA</td>\n",
              "      <td>Fixed</td>\n",
              "      <td></td>\n",
              "      <td>XF7000NP3155</td>\n",
              "      <td></td>\n",
              "      <td></td>\n",
              "    </tr>\n",
              "    <tr>\n",
              "      <th>...</th>\n",
              "      <td>...</td>\n",
              "      <td>...</td>\n",
              "      <td>...</td>\n",
              "      <td>...</td>\n",
              "      <td>...</td>\n",
              "      <td>...</td>\n",
              "      <td>...</td>\n",
              "      <td>...</td>\n",
              "      <td>...</td>\n",
              "      <td>...</td>\n",
              "      <td>...</td>\n",
              "      <td>...</td>\n",
              "      <td>...</td>\n",
              "      <td>...</td>\n",
              "      <td>...</td>\n",
              "      <td>...</td>\n",
              "      <td>...</td>\n",
              "      <td>...</td>\n",
              "      <td>...</td>\n",
              "      <td>...</td>\n",
              "      <td>...</td>\n",
              "      <td>...</td>\n",
              "      <td>...</td>\n",
              "    </tr>\n",
              "    <tr>\n",
              "      <th>de000cz225q7_dt.pdf</th>\n",
              "      <td>16. August 2010</td>\n",
              "      <td>50.000.000</td>\n",
              "      <td>16. August 2016</td>\n",
              "      <td>Nennwert</td>\n",
              "      <td>Unsecured</td>\n",
              "      <td>Following unadjusted</td>\n",
              "      <td>TARGET</td>\n",
              "      <td>16. August 2011</td>\n",
              "      <td>16. August</td>\n",
              "      <td>3-Monats EURIBOR</td>\n",
              "      <td>Commerzbank Aktiengesellschaft</td>\n",
              "      <td>Not Excluded</td>\n",
              "      <td>0</td>\n",
              "      <td>100</td>\n",
              "      <td>Bond</td>\n",
              "      <td>1</td>\n",
              "      <td>EUR</td>\n",
              "      <td>act/act</td>\n",
              "      <td>Floating</td>\n",
              "      <td>CZ2 25Q</td>\n",
              "      <td>DE000CZ225Q7</td>\n",
              "      <td>no_amendment</td>\n",
              "      <td>Ger</td>\n",
              "    </tr>\n",
              "    <tr>\n",
              "      <th>de000cb83gn5_dt.pdf</th>\n",
              "      <td>25.05.2011</td>\n",
              "      <td>5.000.000,00</td>\n",
              "      <td>25.05.2016</td>\n",
              "      <td>100,00%</td>\n",
              "      <td>Senior Unsecured</td>\n",
              "      <td></td>\n",
              "      <td></td>\n",
              "      <td></td>\n",
              "      <td>25.05.</td>\n",
              "      <td>Jahr 1 bis Jahr 2: \\n3,10% p.a.\\nJahr 3 bis 5:...</td>\n",
              "      <td>Commerzbank AG</td>\n",
              "      <td>Not Excluded</td>\n",
              "      <td>0</td>\n",
              "      <td>100,00</td>\n",
              "      <td>Bond</td>\n",
              "      <td>1</td>\n",
              "      <td>EUR</td>\n",
              "      <td></td>\n",
              "      <td>Floating</td>\n",
              "      <td>CB83GN</td>\n",
              "      <td>DE000CB83GN5</td>\n",
              "      <td>no_amendment</td>\n",
              "      <td>Ger</td>\n",
              "    </tr>\n",
              "    <tr>\n",
              "      <th>xf7000001873.pdf</th>\n",
              "      <td></td>\n",
              "      <td>2.000.000,00</td>\n",
              "      <td>04.27.2026</td>\n",
              "      <td></td>\n",
              "      <td></td>\n",
              "      <td></td>\n",
              "      <td></td>\n",
              "      <td></td>\n",
              "      <td>27.04.</td>\n",
              "      <td>1,50 %</td>\n",
              "      <td>Sudwestbank AG</td>\n",
              "      <td></td>\n",
              "      <td>0</td>\n",
              "      <td></td>\n",
              "      <td>Schuldschein</td>\n",
              "      <td>1</td>\n",
              "      <td>EUR</td>\n",
              "      <td></td>\n",
              "      <td>Fixed</td>\n",
              "      <td></td>\n",
              "      <td>XF7000001873</td>\n",
              "      <td>no_amendment</td>\n",
              "      <td></td>\n",
              "    </tr>\n",
              "    <tr>\n",
              "      <th>de000dr0q3k7_dt.pdf</th>\n",
              "      <td>23. Juli 2008</td>\n",
              "      <td>100.000.000,0</td>\n",
              "      <td>21. September 2012</td>\n",
              "      <td>100%</td>\n",
              "      <td></td>\n",
              "      <td></td>\n",
              "      <td></td>\n",
              "      <td>21. September2009</td>\n",
              "      <td>21. September2009\\n21. September2010\\n21. Sept...</td>\n",
              "      <td>Pramie B,35% des Nominals pro Laufzeitjahr, fa...</td>\n",
              "      <td>Dresdner Bank Aktiengesellschaft</td>\n",
              "      <td>Not Excluded</td>\n",
              "      <td>0</td>\n",
              "      <td>100</td>\n",
              "      <td>other Loan</td>\n",
              "      <td></td>\n",
              "      <td>EUR</td>\n",
              "      <td></td>\n",
              "      <td>Floating</td>\n",
              "      <td>DR0Q3K</td>\n",
              "      <td>DE 000 DR0Q3K7</td>\n",
              "      <td>no_amendment</td>\n",
              "      <td>Ger</td>\n",
              "    </tr>\n",
              "    <tr>\n",
              "      <th>de000dr0quq5_de.pdf</th>\n",
              "      <td>18. März 2008</td>\n",
              "      <td>200.000.000</td>\n",
              "      <td>11. Juli 2011</td>\n",
              "      <td>A) Wird der Basiswert am letzten Feststellungs...</td>\n",
              "      <td></td>\n",
              "      <td></td>\n",
              "      <td></td>\n",
              "      <td></td>\n",
              "      <td></td>\n",
              "      <td>10 Jahres EURO Swapsatz gemäß ISDAFIX2, 11:00 ...</td>\n",
              "      <td>Dresdner Bank Aktiengesellschaft</td>\n",
              "      <td></td>\n",
              "      <td>0</td>\n",
              "      <td>100</td>\n",
              "      <td>other Loan</td>\n",
              "      <td>0</td>\n",
              "      <td>EUR</td>\n",
              "      <td></td>\n",
              "      <td>Zero</td>\n",
              "      <td>DR0 QUQ</td>\n",
              "      <td>DE 000 DR0 QUQ 5</td>\n",
              "      <td>no_amendment</td>\n",
              "      <td>Ger</td>\n",
              "    </tr>\n",
              "  </tbody>\n",
              "</table>\n",
              "<p>76 rows × 23 columns</p>\n",
              "</div>"
            ],
            "text/plain": [
              "                                     006_issue_date  ... 022_legislation\n",
              "erfurter_bank_eg.pdf                     22.02.2013  ...             Ger\n",
              "de000dr0q3k7_en.pdf                    23 July 2008  ...             Ger\n",
              "xf0000056977_-_fresenius_se.pdf    January 31, 2017  ...             Ger\n",
              "xf7000001779.pdf                         22.06.2015  ...                \n",
              "xf0000053353_-_bayern_lb_nasv.pdf                    ...                \n",
              "...                                             ...  ...             ...\n",
              "de000cz225q7_dt.pdf                 16. August 2010  ...             Ger\n",
              "de000cb83gn5_dt.pdf                      25.05.2011  ...             Ger\n",
              "xf7000001873.pdf                                     ...                \n",
              "de000dr0q3k7_dt.pdf                   23. Juli 2008  ...             Ger\n",
              "de000dr0quq5_de.pdf                   18. März 2008  ...             Ger\n",
              "\n",
              "[76 rows x 23 columns]"
            ]
          },
          "metadata": {
            "tags": []
          },
          "execution_count": 10
        }
      ]
    },
    {
      "cell_type": "markdown",
      "metadata": {
        "id": "JGkyHYjT_d35",
        "colab_type": "text"
      },
      "source": [
        "### EDA"
      ]
    },
    {
      "cell_type": "code",
      "metadata": {
        "id": "bt_61psCCeR8",
        "colab_type": "code",
        "outputId": "7672f708-44c4-4615-9351-2110fadca6ef",
        "colab": {
          "base_uri": "https://localhost:8080/",
          "height": 403
        }
      },
      "source": [
        "for col in df_.columns: \n",
        "    print(col) "
      ],
      "execution_count": 0,
      "outputs": [
        {
          "output_type": "stream",
          "text": [
            "006_issue_date\n",
            "009_nominal_amount\n",
            "008_maturity_date\n",
            "010_redemption_formula\n",
            "011_seniority\n",
            "012_business_day_convention\n",
            "014_business_day_calendar\n",
            "017_first_payment_date\n",
            "018_payment_dates\n",
            "021_formula\n",
            "002_issuer_name\n",
            "020_paragraph_489\n",
            "004_identifiers\n",
            "007_issue_price\n",
            "003_product_subclass\n",
            "015_payment_frequency\n",
            "005_currency\n",
            "013_day_count_convention\n",
            "001_type\n",
            "004_wkn\n",
            "004_isin\n",
            "023_amendment\n",
            "022_legislation\n"
          ],
          "name": "stdout"
        }
      ]
    },
    {
      "cell_type": "code",
      "metadata": {
        "id": "OoNZ2epc_j2D",
        "colab_type": "code",
        "outputId": "06395d1d-667d-4381-b84f-77528dd8e4c6",
        "colab": {
          "base_uri": "https://localhost:8080/",
          "height": 1000
        }
      },
      "source": [
        "for col in df_.columns:\n",
        "  if len(df_[col].unique()) > 20:\n",
        "    pass\n",
        "  else:\n",
        "    print(col)\n",
        "    print(df_[col].value_counts())\n",
        "    print('\\n')"
      ],
      "execution_count": 0,
      "outputs": [
        {
          "output_type": "stream",
          "text": [
            "011_seniority\n",
            "                    52\n",
            "Senior Secured      12\n",
            "Senior Unsecured     9\n",
            "Unsecured            2\n",
            "Subordinated         1\n",
            "Name: 011_seniority, dtype: int64\n",
            "\n",
            "\n",
            "012_business_day_convention\n",
            "                                 40\n",
            "Following unadjusted             24\n",
            "Modified following adjusted       7\n",
            "Modified following unadjusted     2\n",
            "Following adjusted                2\n",
            "Modified Following                1\n",
            "Name: 012_business_day_convention, dtype: int64\n",
            "\n",
            "\n",
            "014_business_day_calendar\n",
            "                                36\n",
            "TARGET                          19\n",
            "TARGET2                         16\n",
            "TARGET2,                         1\n",
            "London and TARGET                1\n",
            "New York, London and TARGET2     1\n",
            "TARGET & Sydney                  1\n",
            "London and TARGET2               1\n",
            "Name: 014_business_day_calendar, dtype: int64\n",
            "\n",
            "\n",
            "020_paragraph_489\n",
            "                              42\n",
            "Excluded                      25\n",
            "Not Excluded                   8\n",
            "10 Jahren gemäß § 489 Abs.     1\n",
            "Name: 020_paragraph_489, dtype: int64\n",
            "\n",
            "\n",
            "004_identifiers\n",
            "0    76\n",
            "Name: 004_identifiers, dtype: int64\n",
            "\n",
            "\n",
            "003_product_subclass\n",
            "Schuldschein    26\n",
            "Bond            22\n",
            "other Loan      19\n",
            "                 5\n",
            "Term Loan        2\n",
            "Anleihe          1\n",
            "Covered Bond     1\n",
            "Name: 003_product_subclass, dtype: int64\n",
            "\n",
            "\n",
            "015_payment_frequency\n",
            "1    52\n",
            "0    14\n",
            "4     7\n",
            "      2\n",
            "2     1\n",
            "Name: 015_payment_frequency, dtype: int64\n",
            "\n",
            "\n",
            "005_currency\n",
            "EUR    67\n",
            "USD     5\n",
            "CHF     1\n",
            "GBP     1\n",
            "AUD     1\n",
            "        1\n",
            "Name: 005_currency, dtype: int64\n",
            "\n",
            "\n",
            "013_day_count_convention\n",
            "                           32\n",
            "Act/act ICMA               21\n",
            "30/360                     10\n",
            "Act/360                     5\n",
            "act/act                     3\n",
            "30E/360                     2\n",
            "Actual/365                  1\n",
            "Act/365 L, Act/act ICMA     1\n",
            "Act/act ISDA                1\n",
            "Name: 013_day_count_convention, dtype: int64\n",
            "\n",
            "\n",
            "001_type\n",
            "Fixed       40\n",
            "Floating    33\n",
            "Zero         3\n",
            "Name: 001_type, dtype: int64\n",
            "\n",
            "\n",
            "023_amendment\n",
            "no_amendment    71\n",
            "                 4\n",
            "amendment        1\n",
            "Name: 023_amendment, dtype: int64\n",
            "\n",
            "\n",
            "022_legislation\n",
            "Ger                         41\n",
            "                            24\n",
            "NLD                          5\n",
            "Netherlands                  5\n",
            "ederlandse \\nNetherlands     1\n",
            "Name: 022_legislation, dtype: int64\n",
            "\n",
            "\n"
          ],
          "name": "stdout"
        }
      ]
    },
    {
      "cell_type": "markdown",
      "metadata": {
        "id": "BDwDDmuJR0b2",
        "colab_type": "text"
      },
      "source": [
        "Code to find PDF's that need to be Redone"
      ]
    },
    {
      "cell_type": "code",
      "metadata": {
        "id": "Tle2EwsyKnpY",
        "colab_type": "code",
        "outputId": "eea2ed13-2bee-4e23-8275-cb095ebcdfc1",
        "colab": {
          "base_uri": "https://localhost:8080/",
          "height": 218
        }
      },
      "source": [
        "print(df_.index[df_['022_legislation'] == 'Netherlands'])\n",
        "df_.index[df_['022_legislation'] == 'NLD']"
      ],
      "execution_count": 0,
      "outputs": [
        {
          "output_type": "stream",
          "text": [
            "Index(['amba-#7711630-v1-executed_-_nwb_-_sdg_final_terms.pdf',\n",
            "       'final_terms_eur250m_series_1516.pdf',\n",
            "       'final_terms_series_1411_tranche_6.pdf',\n",
            "       'icm-#33492791-v1-executed_final_terms_-_nwb_aug_2021.pdf',\n",
            "       'series_1513_x_final_terms.pdf'],\n",
            "      dtype='object')\n"
          ],
          "name": "stdout"
        },
        {
          "output_type": "execute_result",
          "data": {
            "text/plain": [
              "Index(['final_terms_gbp15m_series_1510.pdf',\n",
              "       'final_terms_xs2071397348_series_1523.pdf',\n",
              "       'final_terms_series_1515.pdf',\n",
              "       'final_terms_series_1418_ii_xs1312042648.pdf',\n",
              "       'final_terms_usd100m_series_1513_vi.pdf'],\n",
              "      dtype='object')"
            ]
          },
          "metadata": {
            "tags": []
          },
          "execution_count": 16
        }
      ]
    },
    {
      "cell_type": "code",
      "metadata": {
        "id": "iNkOqIaiRgDO",
        "colab_type": "code",
        "colab": {}
      },
      "source": [
        ""
      ],
      "execution_count": 0,
      "outputs": []
    }
  ]
}