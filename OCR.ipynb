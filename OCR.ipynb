{
  "nbformat": 4,
  "nbformat_minor": 0,
  "metadata": {
    "colab": {
      "name": "OCR.ipynb",
      "provenance": [],
      "collapsed_sections": [],
      "include_colab_link": true
    },
    "kernelspec": {
      "name": "python3",
      "display_name": "Python 3"
    }
  },
  "cells": [
    {
      "cell_type": "markdown",
      "metadata": {
        "id": "view-in-github",
        "colab_type": "text"
      },
      "source": [
        "<a href=\"https://colab.research.google.com/github/ELehmann91/NLP-Contract-Analysis/blob/master/OCR.ipynb\" target=\"_parent\"><img src=\"https://colab.research.google.com/assets/colab-badge.svg\" alt=\"Open In Colab\"/></a>"
      ]
    },
    {
      "cell_type": "code",
      "metadata": {
        "id": "KP2O_ZJm8uca",
        "colab_type": "code",
        "colab": {}
      },
      "source": [
        "%%capture\n",
        "!sudo apt install poppler-utils\n",
        "!pip install pdf2image\n",
        "!sudo apt install tesseract-ocr\n",
        "!pip install pytesseract\n",
        "!pip install wand\n",
        "!apt-get install libmagickwand-dev\n",
        "!pip install pyocr\n",
        "!pip install gputil\n",
        "!pip install spacy==2.2.0\n",
        "!pip install PyPDF2"
      ],
      "execution_count": 0,
      "outputs": []
    },
    {
      "cell_type": "code",
      "metadata": {
        "id": "xIY49YAT80U6",
        "colab_type": "code",
        "colab": {}
      },
      "source": [
        "import spacy\n",
        "import GPUtil\n",
        "import torch\n",
        "import numpy\n",
        "import random\n",
        "#import cupy\n",
        "import numpy as np\n",
        "import pandas as pd\n",
        "import os\n",
        "import json\n",
        "import PyPDF2\n",
        "import re\n",
        "import pytesseract\n",
        "#try:\n",
        "from PIL import Image\n",
        "#except ImportError:\n",
        "# import Image"
      ],
      "execution_count": 0,
      "outputs": []
    },
    {
      "cell_type": "code",
      "metadata": {
        "id": "JrC6tMZd80X4",
        "colab_type": "code",
        "outputId": "9f88abbc-c5f2-4aff-b0b2-de4154480f1a",
        "colab": {
          "base_uri": "https://localhost:8080/",
          "height": 122
        }
      },
      "source": [
        "from google.colab import drive\n",
        "\n",
        "drive.mount('/content/gdrive')"
      ],
      "execution_count": 3,
      "outputs": [
        {
          "output_type": "stream",
          "text": [
            "Go to this URL in a browser: https://accounts.google.com/o/oauth2/auth?client_id=947318989803-6bn6qk8qdgf4n4g3pfee6491hc0brc4i.apps.googleusercontent.com&redirect_uri=urn%3aietf%3awg%3aoauth%3a2.0%3aoob&response_type=code&scope=email%20https%3a%2f%2fwww.googleapis.com%2fauth%2fdocs.test%20https%3a%2f%2fwww.googleapis.com%2fauth%2fdrive%20https%3a%2f%2fwww.googleapis.com%2fauth%2fdrive.photos.readonly%20https%3a%2f%2fwww.googleapis.com%2fauth%2fpeopleapi.readonly\n",
            "\n",
            "Enter your authorization code:\n",
            "··········\n",
            "Mounted at /content/gdrive\n"
          ],
          "name": "stdout"
        }
      ]
    },
    {
      "cell_type": "code",
      "metadata": {
        "id": "S3oJChzntly5",
        "colab_type": "code",
        "colab": {
          "base_uri": "https://localhost:8080/",
          "height": 34
        },
        "outputId": "62921681-be0f-4628-e96d-7256ebf7635d"
      },
      "source": [
        "file_list[1]"
      ],
      "execution_count": 51,
      "outputs": [
        {
          "output_type": "execute_result",
          "data": {
            "text/plain": [
              "'de000dr0q3k7_en.pdf'"
            ]
          },
          "metadata": {
            "tags": []
          },
          "execution_count": 51
        }
      ]
    },
    {
      "cell_type": "code",
      "metadata": {
        "id": "1nBkhIBexRDa",
        "colab_type": "code",
        "colab": {}
      },
      "source": [
        "import os\n",
        "import tempfile\n",
        "from pdf2image import convert_from_path\n",
        "\n",
        "\n",
        "\n",
        "def OCR_pdf(path_,file_,no_pages=10):\n",
        "    filename = path_ + file_ +'/' + file_ +'.pdf' #'target.pdf'\n",
        "    if os.path.exists(path_+ file_+'/extracted_text.txt') == False:\n",
        "\n",
        "        # import pdf to img\n",
        "        with tempfile.TemporaryDirectory() as path:\n",
        "            # mag page number\n",
        "            images_from_path = convert_from_path(filename, output_folder=path, last_page=no_pages, first_page =0)\n",
        "        #filename\n",
        "        base_filename  =  os.path.splitext(os.path.basename(filename))[0] + '.jpg'     \n",
        "        #create folder for images\n",
        "        img_dir = path_ + file_ + '/pdf2img'\n",
        "        try:\n",
        "          os.mkdir(img_dir)\n",
        "        except FileExistsError:\n",
        "          print('check')\n",
        "\n",
        "        text = ''\n",
        "        for i,page in enumerate(images_from_path):\n",
        "            #save as jpg\n",
        "            page.save(os.path.join(img_dir, base_filename+str(i)), 'JPEG')\n",
        "            #read jpg and extract text\n",
        "            text += pytesseract.image_to_string(Image.open(os.path.join(img_dir, base_filename+str(i)))) + ' '\n",
        "            #\n",
        "        file1 = open(path_+ file_+'/extracted_text.txt','w') \n",
        "        file1.writelines(text) \n",
        "        file1.close()\n",
        "\n",
        "        print(filename,'pages:',len(images_from_path))\n",
        "    else:\n",
        "      print(filename,' allready exists')\n"
      ],
      "execution_count": 0,
      "outputs": []
    },
    {
      "cell_type": "code",
      "metadata": {
        "id": "Y_1ZYy8gxt5z",
        "colab_type": "code",
        "colab": {
          "base_uri": "https://localhost:8080/",
          "height": 1000
        },
        "outputId": "f084695e-97c6-4e33-b91f-873b52dc8fab"
      },
      "source": [
        "path_ = '/content/gdrive/Shared drives/FS-AI Base Data/innolytiq_pdf/'\n",
        "file_list = os.listdir(path_)\n",
        "\n",
        "for file_ in file_list:\n",
        "    OCR_pdf(path_,file_)"
      ],
      "execution_count": 0,
      "outputs": [
        {
          "output_type": "stream",
          "text": [
            "/content/gdrive/Shared drives/FS-AI Base Data/innolytiq_pdf/erfurter_bank_eg.pdf/erfurter_bank_eg.pdf.pdf  allready exists\n",
            "/content/gdrive/Shared drives/FS-AI Base Data/innolytiq_pdf/de000dr0q3k7_en.pdf/de000dr0q3k7_en.pdf.pdf  allready exists\n",
            "/content/gdrive/Shared drives/FS-AI Base Data/innolytiq_pdf/xf0000056977_-_fresenius_se.pdf/xf0000056977_-_fresenius_se.pdf.pdf  allready exists\n",
            "/content/gdrive/Shared drives/FS-AI Base Data/innolytiq_pdf/xf7000001779.pdf/xf7000001779.pdf.pdf  allready exists\n",
            "/content/gdrive/Shared drives/FS-AI Base Data/innolytiq_pdf/xf0000053353_-_bayern_lb_nasv.pdf/xf0000053353_-_bayern_lb_nasv.pdf.pdf  allready exists\n",
            "/content/gdrive/Shared drives/FS-AI Base Data/innolytiq_pdf/xf7000002049.pdf/xf7000002049.pdf.pdf  allready exists\n",
            "/content/gdrive/Shared drives/FS-AI Base Data/innolytiq_pdf/xf0000056184_-_sparkassenverband_b.w..pdf/xf0000056184_-_sparkassenverband_b.w..pdf.pdf  allready exists\n",
            "/content/gdrive/Shared drives/FS-AI Base Data/innolytiq_pdf/xs1191881306.pdf/xs1191881306.pdf.pdf  allready exists\n",
            "/content/gdrive/Shared drives/FS-AI Base Data/innolytiq_pdf/eurohypo_ag_oenapf.pdf/eurohypo_ag_oenapf.pdf.pdf  allready exists\n",
            "/content/gdrive/Shared drives/FS-AI Base Data/innolytiq_pdf/de0007572711_dt.pdf/de0007572711_dt.pdf.pdf  allready exists\n",
            "/content/gdrive/Shared drives/FS-AI Base Data/innolytiq_pdf/de000de04xk4_dt_pib.pdf/de000de04xk4_dt_pib.pdf.pdf  allready exists\n",
            "/content/gdrive/Shared drives/FS-AI Base Data/innolytiq_pdf/de000hsh3j46_dt.pdf/de000hsh3j46_dt.pdf.pdf  allready exists\n",
            "/content/gdrive/Shared drives/FS-AI Base Data/innolytiq_pdf/de000a0fag76_dt.pdf/de000a0fag76_dt.pdf.pdf  allready exists\n",
            "/content/gdrive/Shared drives/FS-AI Base Data/innolytiq_pdf/xf7000001879.pdf/xf7000001879.pdf.pdf  allready exists\n",
            "/content/gdrive/Shared drives/FS-AI Base Data/innolytiq_pdf/xf7000001874.pdf/xf7000001874.pdf.pdf  allready exists\n",
            "/content/gdrive/Shared drives/FS-AI Base Data/innolytiq_pdf/xf7000001950.pdf/xf7000001950.pdf.pdf  allready exists\n",
            "/content/gdrive/Shared drives/FS-AI Base Data/innolytiq_pdf/de000a1h3v53_dt.pdf/de000a1h3v53_dt.pdf.pdf  allready exists\n",
            "/content/gdrive/Shared drives/FS-AI Base Data/innolytiq_pdf/de000dr9rhd9_dt.pdf/de000dr9rhd9_dt.pdf.pdf  allready exists\n",
            "/content/gdrive/Shared drives/FS-AI Base Data/innolytiq_pdf/de000dr0q169_de.pdf/de000dr0q169_de.pdf.pdf  allready exists\n",
            "/content/gdrive/Shared drives/FS-AI Base Data/innolytiq_pdf/amba-#7711630-v1-executed_-_nwb_-_sdg_final_terms.pdf/amba-#7711630-v1-executed_-_nwb_-_sdg_final_terms.pdf.pdf  allready exists\n",
            "/content/gdrive/Shared drives/FS-AI Base Data/innolytiq_pdf/xf7000002042.pdf/xf7000002042.pdf.pdf  allready exists\n",
            "/content/gdrive/Shared drives/FS-AI Base Data/innolytiq_pdf/de000dr5dq47_eng.pdf/de000dr5dq47_eng.pdf.pdf  allready exists\n",
            "/content/gdrive/Shared drives/FS-AI Base Data/innolytiq_pdf/de000a0e83l5_dt.pdf/de000a0e83l5_dt.pdf.pdf  allready exists\n",
            "/content/gdrive/Shared drives/FS-AI Base Data/innolytiq_pdf/de000dr0rvp3_en.pdf/de000dr0rvp3_en.pdf.pdf  allready exists\n",
            "/content/gdrive/Shared drives/FS-AI Base Data/innolytiq_pdf/de000dr4wdy5_eng.pdf/de000dr4wdy5_eng.pdf.pdf  allready exists\n",
            "/content/gdrive/Shared drives/FS-AI Base Data/innolytiq_pdf/de000dr9rhd9_en.pdf/de000dr9rhd9_en.pdf.pdf  allready exists\n",
            "/content/gdrive/Shared drives/FS-AI Base Data/innolytiq_pdf/final_terms_eur250m_series_1516.pdf/final_terms_eur250m_series_1516.pdf.pdf  allready exists\n",
            "/content/gdrive/Shared drives/FS-AI Base Data/innolytiq_pdf/final_terms_zero_coupon_july2020.pdf/final_terms_zero_coupon_july2020.pdf.pdf  allready exists\n",
            "/content/gdrive/Shared drives/FS-AI Base Data/innolytiq_pdf/final_terms_eur85m_series_1445xxiii.pdf/final_terms_eur85m_series_1445xxiii.pdf.pdf  allready exists\n",
            "/content/gdrive/Shared drives/FS-AI Base Data/innolytiq_pdf/final_terms_xs2066631206_series_1522.pdf/final_terms_xs2066631206_series_1522.pdf.pdf  allready exists\n",
            "/content/gdrive/Shared drives/FS-AI Base Data/innolytiq_pdf/final_terms_series_1411_tranche_6.pdf/final_terms_series_1411_tranche_6.pdf.pdf  allready exists\n",
            "/content/gdrive/Shared drives/FS-AI Base Data/innolytiq_pdf/int_925013.pdf/int_925013.pdf.pdf  allready exists\n",
            "/content/gdrive/Shared drives/FS-AI Base Data/innolytiq_pdf/final-terms-series-60-i-tranch2.pdf/final-terms-series-60-i-tranch2.pdf.pdf  allready exists\n",
            "/content/gdrive/Shared drives/FS-AI Base Data/innolytiq_pdf/icm-#33492791-v1-executed_final_terms_-_nwb_aug_2021.pdf/icm-#33492791-v1-executed_final_terms_-_nwb_aug_2021.pdf.pdf  allready exists\n",
            "/content/gdrive/Shared drives/FS-AI Base Data/innolytiq_pdf/serie_1513_viii_final_terms_signed.pdf/serie_1513_viii_final_terms_signed.pdf.pdf  allready exists\n",
            "/content/gdrive/Shared drives/FS-AI Base Data/innolytiq_pdf/xf0000056128_-_liebherr.pdf/xf0000056128_-_liebherr.pdf.pdf  allready exists\n",
            "/content/gdrive/Shared drives/FS-AI Base Data/innolytiq_pdf/xf0000054599_-_asklepios_kliniken.pdf/xf0000054599_-_asklepios_kliniken.pdf.pdf  allready exists\n",
            "/content/gdrive/Shared drives/FS-AI Base Data/innolytiq_pdf/series_1513_x_final_terms.pdf/series_1513_x_final_terms.pdf.pdf  allready exists\n",
            "/content/gdrive/Shared drives/FS-AI Base Data/innolytiq_pdf/xf7000001896.pdf/xf7000001896.pdf.pdf  allready exists\n",
            "/content/gdrive/Shared drives/FS-AI Base Data/innolytiq_pdf/xf0000059095_-_giesecke___devrient.pdf/xf0000059095_-_giesecke___devrient.pdf.pdf  allready exists\n",
            "/content/gdrive/Shared drives/FS-AI Base Data/innolytiq_pdf/xf7000001907.pdf/xf7000001907.pdf.pdf  allready exists\n",
            "/content/gdrive/Shared drives/FS-AI Base Data/innolytiq_pdf/xf7000001963.pdf/xf7000001963.pdf.pdf  allready exists\n",
            "/content/gdrive/Shared drives/FS-AI Base Data/innolytiq_pdf/de000cz31p52_eng.pdf/de000cz31p52_eng.pdf.pdf  allready exists\n",
            "/content/gdrive/Shared drives/FS-AI Base Data/innolytiq_pdf/de000dr6ytn5_en.pdf/de000dr6ytn5_en.pdf.pdf  allready exists\n",
            "/content/gdrive/Shared drives/FS-AI Base Data/innolytiq_pdf/de000dr0fl37_eng.pdf/de000dr0fl37_eng.pdf.pdf  allready exists\n",
            "/content/gdrive/Shared drives/FS-AI Base Data/innolytiq_pdf/de000dr0pun4_eng.pdf/de000dr0pun4_eng.pdf.pdf  allready exists\n",
            "/content/gdrive/Shared drives/FS-AI Base Data/innolytiq_pdf/de000dr6d0m8_eng_ts.pdf/de000dr6d0m8_eng_ts.pdf.pdf  allready exists\n",
            "/content/gdrive/Shared drives/FS-AI Base Data/innolytiq_pdf/de000dr5xzf2_en.pdf/de000dr5xzf2_en.pdf.pdf  allready exists\n",
            "/content/gdrive/Shared drives/FS-AI Base Data/innolytiq_pdf/de000dr0q0e6_eng.pdf/de000dr0q0e6_eng.pdf.pdf  allready exists\n",
            "/content/gdrive/Shared drives/FS-AI Base Data/innolytiq_pdf/de000dr4wdy5_ps_eng.pdf/de000dr4wdy5_ps_eng.pdf.pdf  allready exists\n",
            "/content/gdrive/Shared drives/FS-AI Base Data/innolytiq_pdf/de000dr0q3k7_en_swissspecs.pdf/de000dr0q3k7_en_swissspecs.pdf.pdf  allready exists\n",
            "/content/gdrive/Shared drives/FS-AI Base Data/innolytiq_pdf/de000dr0q169_en.pdf/de000dr0q169_en.pdf.pdf  allready exists\n",
            "/content/gdrive/Shared drives/FS-AI Base Data/innolytiq_pdf/de000dr1wf58_en.pdf/de000dr1wf58_en.pdf.pdf  allready exists\n",
            "/content/gdrive/Shared drives/FS-AI Base Data/innolytiq_pdf/de000dr0quq5_en.pdf/de000dr0quq5_en.pdf.pdf  allready exists\n",
            "/content/gdrive/Shared drives/FS-AI Base Data/innolytiq_pdf/de000dr1vlh1_en.pdf/de000dr1vlh1_en.pdf.pdf  allready exists\n",
            "/content/gdrive/Shared drives/FS-AI Base Data/innolytiq_pdf/final_terms_gbp15m_series_1510.pdf/final_terms_gbp15m_series_1510.pdf.pdf  allready exists\n",
            "/content/gdrive/Shared drives/FS-AI Base Data/innolytiq_pdf/series_1513__tranche_11.pdf/series_1513__tranche_11.pdf.pdf pages: 8\n",
            "/content/gdrive/Shared drives/FS-AI Base Data/innolytiq_pdf/final_terms_xs2071397348_series_1523.pdf/final_terms_xs2071397348_series_1523.pdf.pdf pages: 8\n",
            "/content/gdrive/Shared drives/FS-AI Base Data/innolytiq_pdf/final_terms_series_1515.pdf/final_terms_series_1515.pdf.pdf pages: 8\n",
            "/content/gdrive/Shared drives/FS-AI Base Data/innolytiq_pdf/int_920003.pdf/int_920003.pdf.pdf pages: 1\n",
            "/content/gdrive/Shared drives/FS-AI Base Data/innolytiq_pdf/final_terms_series_1418_ii_xs1312042648.pdf/final_terms_series_1418_ii_xs1312042648.pdf.pdf pages: 7\n",
            "/content/gdrive/Shared drives/FS-AI Base Data/innolytiq_pdf/final_terms_usd100m_series_1513_vi.pdf/final_terms_usd100m_series_1513_vi.pdf.pdf pages: 8\n",
            "/content/gdrive/Shared drives/FS-AI Base Data/innolytiq_pdf/ssd025004398_urkunde.pdf/ssd025004398_urkunde.pdf.pdf pages: 9\n",
            "/content/gdrive/Shared drives/FS-AI Base Data/innolytiq_pdf/gutschriftsanzeige.pdf/gutschriftsanzeige.pdf.pdf pages: 1\n",
            "/content/gdrive/Shared drives/FS-AI Base Data/innolytiq_pdf/xf0000056311_-_robert_bosch_gmbh.pdf/xf0000056311_-_robert_bosch_gmbh.pdf.pdf pages: 10\n",
            "/content/gdrive/Shared drives/FS-AI Base Data/innolytiq_pdf/xfca00h06673.pdf/xfca00h06673.pdf.pdf pages: 4\n",
            "/content/gdrive/Shared drives/FS-AI Base Data/innolytiq_pdf/de000dr0q3d2_eng.pdf/de000dr0q3d2_eng.pdf.pdf pages: 2\n",
            "/content/gdrive/Shared drives/FS-AI Base Data/innolytiq_pdf/xf7000001895.pdf/xf7000001895.pdf.pdf pages: 2\n",
            "/content/gdrive/Shared drives/FS-AI Base Data/innolytiq_pdf/de000cb83hp8_dt.pdf/de000cb83hp8_dt.pdf.pdf pages: 3\n",
            "/content/gdrive/Shared drives/FS-AI Base Data/innolytiq_pdf/xf0000057930_-_lonza_group_ssd.pdf/xf0000057930_-_lonza_group_ssd.pdf.pdf pages: 10\n",
            "/content/gdrive/Shared drives/FS-AI Base Data/innolytiq_pdf/xs0531121290_dt.pdf/xs0531121290_dt.pdf.pdf pages: 2\n"
          ],
          "name": "stdout"
        }
      ]
    },
    {
      "cell_type": "code",
      "metadata": {
        "id": "XSZ8dVbn6nk5",
        "colab_type": "code",
        "colab": {
          "base_uri": "https://localhost:8080/",
          "height": 34
        },
        "outputId": "41c97d95-ec6a-4f80-c685-a9614779663d"
      },
      "source": [
        "'/content/gdrive/Shared drives/FS-AI Base Data/innolytiq_pdf/series_1513__tranche_11.pdf/series_1513__tranche_11.pdf.pdf'"
      ],
      "execution_count": 71,
      "outputs": [
        {
          "output_type": "execute_result",
          "data": {
            "text/plain": [
              "'/content/gdrive/Shared drives/FS-AI Base Data/innolytiq_pdf/series_1513__tranche_11.pdf/series_1513__tranche_11.pdf.pdf'"
            ]
          },
          "metadata": {
            "tags": []
          },
          "execution_count": 71
        }
      ]
    },
    {
      "cell_type": "code",
      "metadata": {
        "id": "V5G0WFHp61DC",
        "colab_type": "code",
        "colab": {
          "base_uri": "https://localhost:8080/",
          "height": 201
        },
        "outputId": "91f8c301-ed4f-4af8-f1d4-0759990f356c"
      },
      "source": [
        "with open('/content/gdrive/Shared drives/FS-AI Base Data/innolytiq_pdf/series_1513__tranche_11.pdf/series_1513__tranche_11.pdf.pdf', 'rb') as pdfFileObj:\n",
        "    pdfReader = PyPDF2.PdfFileReader(pdfFileObj)"
      ],
      "execution_count": 73,
      "outputs": [
        {
          "output_type": "error",
          "ename": "FileNotFoundError",
          "evalue": "ignored",
          "traceback": [
            "\u001b[0;31m---------------------------------------------------------------------------\u001b[0m",
            "\u001b[0;31mFileNotFoundError\u001b[0m                         Traceback (most recent call last)",
            "\u001b[0;32m<ipython-input-73-8f16ab33552e>\u001b[0m in \u001b[0;36m<module>\u001b[0;34m()\u001b[0m\n\u001b[0;32m----> 1\u001b[0;31m \u001b[0;32mwith\u001b[0m \u001b[0mopen\u001b[0m\u001b[0;34m(\u001b[0m\u001b[0;34m'/content/gdrive/Shared drives/FS-AI Base Data/innolytiq_pdf/series_1513__tranche_11.pdf/series_1513__tranche_11.pdf.pdf'\u001b[0m\u001b[0;34m,\u001b[0m \u001b[0;34m'rb'\u001b[0m\u001b[0;34m)\u001b[0m \u001b[0;32mas\u001b[0m \u001b[0mpdfFileObj\u001b[0m\u001b[0;34m:\u001b[0m\u001b[0;34m\u001b[0m\u001b[0;34m\u001b[0m\u001b[0m\n\u001b[0m\u001b[1;32m      2\u001b[0m     \u001b[0mpdfReader\u001b[0m \u001b[0;34m=\u001b[0m \u001b[0mPyPDF2\u001b[0m\u001b[0;34m.\u001b[0m\u001b[0mPdfFileReader\u001b[0m\u001b[0;34m(\u001b[0m\u001b[0mpdfFileObj\u001b[0m\u001b[0;34m)\u001b[0m\u001b[0;34m\u001b[0m\u001b[0;34m\u001b[0m\u001b[0m\n",
            "\u001b[0;31mFileNotFoundError\u001b[0m: [Errno 2] No such file or directory: '/content/gdrive/Shared drives/FS-AI Base Data/innolytiq_pdf/series_1513__tranche_11.pdf/series_1513__tranche_11.pdf.pdf'"
          ]
        }
      ]
    },
    {
      "cell_type": "code",
      "metadata": {
        "id": "KJZqvprJ7oan",
        "colab_type": "code",
        "colab": {}
      },
      "source": [
        ""
      ],
      "execution_count": 0,
      "outputs": []
    }
  ]
}