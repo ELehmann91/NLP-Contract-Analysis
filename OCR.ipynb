{
  "nbformat": 4,
  "nbformat_minor": 0,
  "metadata": {
    "colab": {
      "name": "OCR.ipynb",
      "provenance": [],
      "include_colab_link": true
    },
    "kernelspec": {
      "name": "python3",
      "display_name": "Python 3"
    }
  },
  "cells": [
    {
      "cell_type": "markdown",
      "metadata": {
        "id": "view-in-github",
        "colab_type": "text"
      },
      "source": [
        "<a href=\"https://colab.research.google.com/github/ELehmann91/NLP-Contract-Analysis/blob/master/OCR.ipynb\" target=\"_parent\"><img src=\"https://colab.research.google.com/assets/colab-badge.svg\" alt=\"Open In Colab\"/></a>"
      ]
    },
    {
      "cell_type": "code",
      "metadata": {
        "id": "KP2O_ZJm8uca",
        "colab_type": "code",
        "colab": {}
      },
      "source": [
        "%%capture\n",
        "\n",
        "!sudo apt install tesseract-ocr\n",
        "!pip install pytesseract\n",
        "!pip install wand\n",
        "!apt-get install libmagickwand-dev\n",
        "!pip install pyocr\n",
        "!pip install gputil\n",
        "!pip install spacy==2.2.0\n",
        "!pip install PyPDF2"
      ],
      "execution_count": 0,
      "outputs": []
    },
    {
      "cell_type": "code",
      "metadata": {
        "id": "xIY49YAT80U6",
        "colab_type": "code",
        "colab": {}
      },
      "source": [
        "import spacy\n",
        "import GPUtil\n",
        "import torch\n",
        "import numpy\n",
        "from numpy.testing import assert_almost_equal\n",
        "from scipy.spatial import distance\n",
        "from spacy.util import minibatch\n",
        "import random\n",
        "#import cupy\n",
        "import numpy as np\n",
        "import pandas as pd\n",
        "import os\n",
        "import json\n",
        "import PyPDF2\n",
        "import re"
      ],
      "execution_count": 0,
      "outputs": []
    },
    {
      "cell_type": "code",
      "metadata": {
        "id": "JrC6tMZd80X4",
        "colab_type": "code",
        "outputId": "817abbfb-2184-4c2c-de80-bb1c82818fbf",
        "colab": {
          "base_uri": "https://localhost:8080/",
          "height": 122
        }
      },
      "source": [
        "from google.colab import drive\n",
        "\n",
        "drive.mount('/content/gdrive')"
      ],
      "execution_count": 0,
      "outputs": [
        {
          "output_type": "stream",
          "text": [
            "Go to this URL in a browser: https://accounts.google.com/o/oauth2/auth?client_id=947318989803-6bn6qk8qdgf4n4g3pfee6491hc0brc4i.apps.googleusercontent.com&redirect_uri=urn%3aietf%3awg%3aoauth%3a2.0%3aoob&response_type=code&scope=email%20https%3a%2f%2fwww.googleapis.com%2fauth%2fdocs.test%20https%3a%2f%2fwww.googleapis.com%2fauth%2fdrive%20https%3a%2f%2fwww.googleapis.com%2fauth%2fdrive.photos.readonly%20https%3a%2f%2fwww.googleapis.com%2fauth%2fpeopleapi.readonly\n",
            "\n",
            "Enter your authorization code:\n",
            "··········\n",
            "Mounted at /content/gdrive\n"
          ],
          "name": "stdout"
        }
      ]
    },
    {
      "cell_type": "code",
      "metadata": {
        "id": "eCMrwfdV80ao",
        "colab_type": "code",
        "outputId": "d1707936-eae9-4f8f-df88-783525268894",
        "colab": {
          "base_uri": "https://localhost:8080/",
          "height": 34
        }
      },
      "source": [
        "path = '/content/gdrive/Shared drives/FS-AI Base Data/innolytiq_pdf/'\n",
        "file_list = os.listdir(path)\n",
        "len(file_list)"
      ],
      "execution_count": 0,
      "outputs": [
        {
          "output_type": "execute_result",
          "data": {
            "text/plain": [
              "149"
            ]
          },
          "metadata": {
            "tags": []
          },
          "execution_count": 13
        }
      ]
    },
    {
      "cell_type": "code",
      "metadata": {
        "id": "up37rZUHvrkH",
        "colab_type": "code",
        "outputId": "e1e7d20c-d36d-4924-faee-25db1a85be1a",
        "colab": {
          "base_uri": "https://localhost:8080/",
          "height": 34
        }
      },
      "source": [
        "!ls '/content/gdrive/Shared drives/FS-AI Base Data/innolytiq_pdf/amba-#7369249-v1-nwb_-_executed_ft.pdf/images'"
      ],
      "execution_count": 0,
      "outputs": [
        {
          "output_type": "stream",
          "text": [
            "image_1.jpeg  image_2.jpeg  image_3.jpeg\n"
          ],
          "name": "stdout"
        }
      ]
    },
    {
      "cell_type": "code",
      "metadata": {
        "id": "vFviI5BG9SaS",
        "colab_type": "code",
        "outputId": "0d5242b0-d0de-4ad5-a670-eb30ad7a86cb",
        "colab": {
          "base_uri": "https://localhost:8080/",
          "height": 374
        }
      },
      "source": [
        "#with open(path+file_list[4]+'/'+file_list[4]+'.pdf', 'rb') as pdfFileObj:\n",
        "for file in file_list[10:30]:\n",
        "    images = os.listdir(path+file+'/images')\n",
        "    images_n = len(images)\n",
        "    with open(path+file+'/'+file+'.pdf', 'rb') as pdfFileObj:\n",
        "        pdfReader = PyPDF2.PdfFileReader(pdfFileObj)\n",
        "        print(file, pdfReader.numPages,images_n)\n",
        "        "
      ],
      "execution_count": 0,
      "outputs": [
        {
          "output_type": "stream",
          "text": [
            "de000de04xk4_dt_pib.pdf 3 1\n",
            "de000hsh3j46_dt.pdf 1 1\n"
          ],
          "name": "stdout"
        },
        {
          "output_type": "stream",
          "text": [
            "PdfReadWarning: Xref table not zero-indexed. ID numbers for objects will be corrected. [pdf.py:1736]\n"
          ],
          "name": "stderr"
        },
        {
          "output_type": "stream",
          "text": [
            "de000a0fag76_dt.pdf 15 6\n",
            "xf7000001879.pdf 1 1\n",
            "xf7000001874.pdf 1 1\n",
            "xf7000001950.pdf 1 1\n",
            "de000a1h3v53_dt.pdf 90 1\n",
            "de000dr9rhd9_dt.pdf 2 2\n",
            "de000dr0q169_de.pdf 2 2\n",
            "amba-#7711630-v1-executed_-_nwb_-_sdg_final_terms.pdf 7 3\n",
            "xf7000002042.pdf 2 1\n",
            "de000dr5dq47_eng.pdf 2 1\n",
            "de000a0e83l5_dt.pdf 24 4\n",
            "de000dr0rvp3_en.pdf 1 1\n",
            "de000dr4wdy5_eng.pdf 2 2\n",
            "de000dr9rhd9_en.pdf 2 2\n",
            "final_terms_eur250m_series_1516.pdf 7 3\n",
            "final_terms_zero_coupon_july2020.pdf 5 3\n",
            "final_terms_eur85m_series_1445xxiii.pdf 8 3\n",
            "final_terms_xs2066631206_series_1522.pdf 7 3\n"
          ],
          "name": "stdout"
        }
      ]
    },
    {
      "cell_type": "code",
      "metadata": {
        "id": "UVWtK_Vj9X8S",
        "colab_type": "code",
        "outputId": "7007ff60-7dc1-44e5-f726-0aa4d54e4bef",
        "colab": {
          "base_uri": "https://localhost:8080/",
          "height": 34
        }
      },
      "source": [
        "with open(path+file_list[4]+'/'+file_list[4]+'.pdf', 'rb') as pdfFileObj:\n",
        "    pdfReader = PyPDF2.PdfFileReader(pdfFileObj)\n",
        "    print(file_list[40], pdfReader.numPages)\n",
        "    pdf_text = ' '.join([pdfReader.getPage(i).extractText() for i in range(0,min(pdfReader.numPages,10))])"
      ],
      "execution_count": 0,
      "outputs": [
        {
          "output_type": "stream",
          "text": [
            "xf7000001907.pdf 2\n"
          ],
          "name": "stdout"
        }
      ]
    },
    {
      "cell_type": "code",
      "metadata": {
        "id": "cgG7H-to_59P",
        "colab_type": "code",
        "colab": {}
      },
      "source": [
        "#xf0000053353_-_bayern_lb_nasv.pdf schlechtes bsp"
      ],
      "execution_count": 0,
      "outputs": []
    },
    {
      "cell_type": "code",
      "metadata": {
        "id": "9FYM5Bls-Goo",
        "colab_type": "code",
        "colab": {}
      },
      "source": [
        "def propro(sen):\n",
        "  #sen = sen.lower()\n",
        "  sen = sen.replace('\\n',' ')\n",
        "  sen = sen.replace('%','prozent')\n",
        "  sen = re.sub('[^A-Za-zÄÖÜßäöüß]+', ' ',sen)\n",
        "  sen = ' '.join([w for w in sen.split() if len(w)>1])\n",
        "  return sen"
      ],
      "execution_count": 0,
      "outputs": []
    },
    {
      "cell_type": "code",
      "metadata": {
        "id": "SKOOkzvl0qqX",
        "colab_type": "code",
        "outputId": "d29f1d37-d4e1-4983-9374-678af90830d4",
        "colab": {
          "base_uri": "https://localhost:8080/",
          "height": 1000
        }
      },
      "source": [
        "print(pdf_text)"
      ],
      "execution_count": 0,
      "outputs": [
        {
          "output_type": "stream",
          "text": [
            " \n",
            " \n",
            " \n",
            "SOCIO\n",
            "ER\n",
            "RE\n",
            "OTITIS\n",
            "IIIT\n",
            "GR\n",
            "S00\n",
            "e\n",
            "‚am™\n",
            "am\n",
            "(|\n",
            "YX\n",
            "HRCI\n",
            "A\n",
            "I\n",
            "ONO\n",
            "AES\n",
            "I\n",
            "[OANA]\n",
            "AXON\n",
            "(OXON)\n",
            "A\n",
            "(ee\n",
            "5\n",
            "ihe\n",
            "119\n",
            "lichkeit\n",
            "Re\n",
            "XF7000NP3155\n",
            "inne\n",
            "von\n",
            "-\n",
            "sonstigen\n",
            "-\n",
            "gebildeten\n",
            "Forderungen\n",
            "aus\n",
            "$\n",
            "verzichtet\n",
            ".d\n",
            "Insolvenzfall\n",
            "-\n",
            "auf\n",
            "jede\n",
            "Aufrechnung\n",
            "sowie\n",
            "auf\n",
            "die\n",
            "Ausiibung\n",
            "von\n",
            "jeweils\n",
            "ﬁ.-\n",
            "erstmals\n",
            "igungsmog\n",
            "ogen\n",
            "im\n",
            "und\n",
            ".\n",
            "Die\n",
            "Zinsen\n",
            "sind\n",
            "ab\n",
            "2)\n",
            "Der\n",
            "geschuldete\n",
            "Betrag\n",
            "ist\n",
            "ohne\n",
            "vorzeitige\n",
            "Kind\n",
            "Vorschriften\n",
            "nachtréglich\n",
            "Jahres\"\n",
            "%\n",
            "her\n",
            "rden\n",
            "kénnten\n",
            ":\n",
            "Miinchen\n",
            "illionen\n",
            "Euro\n",
            "-\n",
            "-\n",
            ".a.\n",
            "zu\n",
            "verzinsen\n",
            "jeden\n",
            "werden\n",
            "Karenztage\n",
            "nicht\n",
            ".verzinst.\n",
            "'Zinsscheine\n",
            "werden\n",
            "nicht\n",
            "ausgegeben:\n",
            "Dieser\n",
            "Betrag\n",
            "ist\n",
            "mit\n",
            "5,40\n",
            "%\n",
            "p\n",
            "11.\n",
            "September\n",
            "2008\n",
            "11.\n",
            "September\n",
            "gesetzlic\n",
            "RUFIE\n",
            "EUR\n",
            "2.000.000,--\n",
            "jahrlich\n",
            "ﬁiTeines\n",
            "11.\n",
            "September\n",
            "2009\n",
            "-\n",
            "zu\n",
            "zahlen.\n",
            "Die\n",
            "Zinsen\n",
            "werden\n",
            "taggenau,\n",
            "d.h.\":\n",
            "Zuriickbehaltungsrechten\n",
            "durch\n",
            "welche\n",
            "adie\n",
            "Verzinsung\n",
            "endet\n",
            "mit\n",
            "dem\n",
            "Ablauf\n",
            "des™\n",
            "dem\n",
            ".\n",
            "Namensschuldverschreibung\n",
            "Uber\n",
            "11.\n",
            "September\n",
            "2023\n",
            "zuriickzuzahlen.\n",
            "ﬁDie\n",
            "*\n",
            "inléndischer\n",
            "-\n",
            "=\n",
            "=\n",
            "LE\n",
            "-\n",
            "c\n",
            "©\n",
            "Se\n",
            "Me\n",
            "w\n",
            "EE\n",
            "S\n",
            ".\n",
            "2\n",
            "|\n",
            "N\n",
            "1\n",
            "Št\n",
            "a\n",
            "=\n",
            "I\n",
            "N4\n",
            "N\n",
            "os\n",
            "oo\n",
            "3\n",
            "Bayerische\n",
            "Landesbank,\n",
            "auf\n",
            "der\n",
            "Basis\n",
            "der\n",
            "abgelaufenen\n",
            "Tage\n",
            "einer\n",
            "Zinsperiode\n",
            "und\n",
            "der\n",
            "'Félligkeitstag\n",
            "'vorhergehenden\n",
            "Tages.\n",
            "Wird\n",
            "jedoch\n",
            "eine\n",
            "Leistung™\n",
            "Anzahl\n",
            "der\n",
            "Tage\n",
            "eines\n",
            "Jahres\n",
            "(actual/actual\n",
            "gemaR\n",
            "ISMA-Regel\n",
            "251),\n",
            "§\n",
            "54\n",
            "VAG\n",
            "in\"\n",
            "Verbindung\n",
            "mit\n",
            "§\n",
            "1\n",
            "Anlageverordnung\n",
            "oder\n",
            "zu\n",
            "einer\n",
            "Schuldnerin\n",
            "gegeniiber\n",
            "der\n",
            "Gldubigerin\n",
            "uneingeschrénkt\n",
            "-\n",
            "auch\n",
            "im\n",
            "Deckungsmasse\n",
            "fiir\n",
            "Schuldverschreibungen\n",
            "gehért\n",
            "nach\n",
            "§193\n",
            "BGB\n",
            "bewirkt,\n",
            "Schuldverhaltnis\n",
            "beeintrachtigt\n",
            "berechnet.\n",
            ".\n",
            "‚zu\n",
            "pariam\n",
            "*\n",
            "aufgrund\n",
            "‚Pfandrechten,\n",
            "Gegenrechten,\n",
            "(33\n",
            "Nines\n",
            "WINANS\n",
            "NTA\n",
            "(XX\n",
            "i\n",
            "TOO\n",
            "2000\n",
            "7\n",
            "I\n",
            "nach\n",
            "MaBgabe\n",
            "der\n",
            "nachstehenden\n",
            "Bedingungen\n",
            "I\n",
            "2\n",
            "£\n",
            "4\n",
            "Sp\n",
            "©\n",
            "£\n",
            "uv\n",
            "nn\n",
            "=\n",
            "u\n",
            "wv\n",
            "u\n",
            "oO\n",
            "Q\n",
            "oO\n",
            "5\n",
            "c\n",
            "©\n",
            "=\n",
            "[]\n",
            "x\n",
            "a\n",
            "T\n",
            "4\n",
            "a\n",
            "wv\n",
            "HE\n",
            ">\n",
            "£\n",
            "o\n",
            "|\n",
            "3\n",
            "a\n",
            "Se\n",
            "S\n",
            "a\n",
            "U\n",
            "©\n",
            ">\n",
            "£\n",
            "u\n",
            "wn\n",
            ":\n",
            "3)\n",
            ")\n",
            "Soweit\n",
            "diese\n",
            "Forderung\n",
            "zum\n",
            "gebundenen\n",
            "Verm\n",
            "I]\n",
            "(\n",
            "VJ\n",
            "LEI\n",
            "AEE\n",
            "¥\n",
            "r\n",
            ".\n",
            ".\n",
            "fo\n",
            "XoN0e\n",
            "1\n",
            "1\n",
            "io\n",
            ".\n",
            "Š\n",
            "(aN)\n",
            "Vk\n",
            "Gi\n",
            "\\\n",
            "NY\n",
            "=\n",
            "=\n",
            "CA\n",
            "NLL\n",
            "B\n",
            "Wri)\n",
            " \n",
            "(1\n",
            "0\n",
            "AX\n",
            "WALI\n",
            "LE\n",
            "2\n",
            ":\n",
            "SR\n",
            "RRR\n",
            "RRR\n",
            "fx\n",
            "COINS\n",
            "SR\n",
            ":\n",
            "z\n",
            ":\n",
            "an\n",
            "[ER\n",
            "NEN\n",
            "Tees\n",
            "a\n",
            "x\n",
            "S\n",
            "=\n",
            "Bees\n",
            "Ese\n",
            "HD\n",
            ":\n",
            ":\n",
            "Sd\n",
            "&\n",
            "0389\n",
            "ALE)\n",
            "LAU\n",
            "SE\n",
            "LOE)\n",
            "EER\n",
            "-\n",
            "&\n",
            ">\n",
            "=\n",
            "ere\n",
            "georges\n",
            "Come\n",
            "3\n",
            "3\n",
            "ﬁ\n",
            "Ee\n",
            "-\n",
            "5\n",
            "TL\n",
            "2\n",
            "R\n",
            "morte\n",
            "iT}\n",
            "0\n",
            "A\n",
            "(i\n",
            "\\\n",
            "ee\n",
            "RR\n",
            "a\n",
            "EERE\n",
            "2\n",
            "SEER\n",
            "RRR\n",
            "RRS\n",
            "SR\n",
            "IRI\n",
            "ID\n",
            "DBO\n",
            "DGD\n",
            " \n",
            "©\n",
            "SECURITYSYSTEMS\n",
            "PRINTING\n",
            "-\n",
            "EINBECK\n",
            "  \n",
            "4)\n",
            "Die\n",
            "Namensschuldverschreibung\n",
            "kann\n",
            "im\n",
            "Ganzen\n",
            "oder\n",
            "in\n",
            "Teilbetrdgen\n",
            "von\n",
            "mindestens\n",
            "nominal\n",
            "EUR\n",
            "500.000,~\n",
            "abgetreten\n",
            "werden.\n",
            "Abtretungen\n",
            "sind\n",
            "der\n",
            "Schuldnerin\n",
            "unverziiglich\n",
            "schriftlich\n",
            "anzuzeigen.\n",
            "Blankoabtretungen\n",
            "sind\n",
            "ausgeschlossen.\n",
            "5)\n",
            "Sollte\n",
            "eine\n",
            "der\n",
            "Bestimmungen\n",
            "dieser\n",
            "Namensschuldverschreibung\n",
            "ganz\n",
            "oder\n",
            "teilweise\n",
            "unwirksam\n",
            "sein\n",
            "oder\n",
            "werden,\n",
            "so\n",
            "bleiben\n",
            "die\n",
            "ibrigen\n",
            "Bestimmungen\n",
            "wirksam.\n",
            "Unwirksame\n",
            "Bestimmungen\n",
            "sollen\n",
            "in\n",
            "Ubereinstimmung\n",
            "mit\n",
            "Sinn\n",
            "und\n",
            "Zweck\n",
            "dieser\n",
            "Namensschuldverschreibung\n",
            "ersetzt\n",
            "werden.\n",
            "|\n",
            "Miinchen,\n",
            "11.\n",
            "Se\n",
            "Loos\n",
            "Bayerische\n",
            "La\n",
            "Gasbank\n",
            " \n",
            "\n"
          ],
          "name": "stdout"
        }
      ]
    },
    {
      "cell_type": "code",
      "metadata": {
        "id": "7Wd6gnjnAGhA",
        "colab_type": "code",
        "colab": {}
      },
      "source": [
        "import pytesseract\n",
        "import shutil\n",
        "import os\n",
        "import random\n",
        "try:\n",
        " from PIL import Image\n",
        "except ImportError:\n",
        " import Image"
      ],
      "execution_count": 0,
      "outputs": []
    },
    {
      "cell_type": "code",
      "metadata": {
        "id": "8PJKIqXkHkxW",
        "colab_type": "code",
        "outputId": "9c0bab57-11e5-47dd-cbbf-a126fd322ea1",
        "colab": {
          "base_uri": "https://localhost:8080/",
          "height": 34
        }
      },
      "source": [
        "!ls '/content/gdrive/Shared drives/FS-AI Base Data/innolytiq_pdf/xf7000001907.pdf/images/image_1.jpeg'"
      ],
      "execution_count": 0,
      "outputs": [
        {
          "output_type": "stream",
          "text": [
            "'/content/gdrive/Shared drives/FS-AI Base Data/innolytiq_pdf/xf7000001907.pdf/images/image_1.jpeg'\n"
          ],
          "name": "stdout"
        }
      ]
    },
    {
      "cell_type": "code",
      "metadata": {
        "id": "XV87a96VAIkZ",
        "colab_type": "code",
        "outputId": "f6d192dd-628c-4493-ec5b-d061efb6a931",
        "colab": {
          "base_uri": "https://localhost:8080/",
          "height": 1000
        }
      },
      "source": [
        "image_path_in_colab='/content/gdrive/Shared drives/FS-AI Base Data/innolytiq_pdf/xf0000053353_-_bayern_lb_nasv.pdf/images/image_1.jpeg'\n",
        "#image_path_in_colab='/content/gdrive/Shared drives/FS-AI Base Data/innolytiq_pdf/xf7000001907.pdf/images/image_1.jpeg'\n",
        "extractedInformation = pytesseract.image_to_string(Image.open(image_path_in_colab))\n",
        "print(extractedInformation)"
      ],
      "execution_count": 0,
      "outputs": [
        {
          "output_type": "stream",
          "text": [
            "Die\n",
            "\n",
            "AUPIE\n",
            "\n",
            "> BayernLB\n",
            "\n",
            "Reihe 119\n",
            "XF7000NP3155\n",
            "\n",
            "5,40 %\n",
            "Namensschuldverschreibung\n",
            "Uber\n",
            "EUR 2.000.000,--\n",
            "\n",
            "Bayerische Landesbank, Minchen\n",
            "\n",
            "schuldet Warburg Invest Kapitalanlagegesellschaft mbH\n",
            "\n",
            "wg. RZK - NDL - Fonds, Frankfurt\n",
            "\n",
            "- Zwei Millionen Euro -\n",
            "\n",
            "nach Magabe der nachstehenden Bedingungen:\n",
            "\n",
            "4)\n",
            "\n",
            "Dieser Betrag ist mit 5, % /p.a. ZU verzinsen. Die Zinsen sind ab\n",
            "11. September 2008 —_jahrlich a hae jeweils © am\n",
            "\n",
            "‘11. September: eines -- jeden » Jahres. -erstmals am\n",
            "\n",
            "11, September 2009 -'zu zahlen. Die Zinsen werden taggenau, d.h.*:\n",
            "\n",
            "“auf der Basis der abgelaufenen Tage einer Zinsperiode und der’\n",
            "\n",
            "Anzahl der Tage eines Jahres (actuaV/actual gema& ISMA-Regel 251),\n",
            "berechnet. Die Verzinsung endet mit dem Ablauf des‘ dem\n",
            "\n",
            "’Falligkeitstag vorhergehenden Tages. Wird jedoch eine Leistung’\n",
            "\n",
            "nach §193,BGB bewirkt, werden Karenztage nicht verzinst.\n",
            "Zinsscheine wergen nicht ausgegeben: : :\n",
            "\n",
            "Der geschilldete Betray ist ohne vorzeitige songs\n",
            "\n",
            "Zu pari am 11. September 2023 zuriickzuzahlen.\n",
            "\n",
            "Soweit diese Forderung zum gebundenen Vermdgen im Sinne von -\n",
            "\n",
            "§ 54 VAG in’ Verbindung mit § 1 Anlageverordnung oder zu einer\n",
            "aufgrund * inlandischer .gesetzlicher Vorschriften gebildeten\n",
            "Deckungsmasse fiir Schuldverschreibungen gehGrt, verzichtet die.\n",
            "Schuldnerin gegeniiber der Glaubigerin uneingeschrankt - auch im\n",
            "Insolvenczfall - auf jede Aufrechnung sowie auf die Ausiibung von\n",
            "\n",
            ":Pfandrechten, Zurtickbehaltungsrechten und sonstigen\n",
            "\n",
            "Gegeénrechten, durch welche pdie Forderungen aus diesem\n",
            "ae hs beeintrachtigt Werden k6nnten : ¢\n",
            "\n",
            " \n",
            "\n",
            "(© SECURITYSYSTEMS PRINTING: EINBEOK\n"
          ],
          "name": "stdout"
        }
      ]
    },
    {
      "cell_type": "code",
      "metadata": {
        "id": "UmmsIiV9H0tb",
        "colab_type": "code",
        "outputId": "a1bea70c-c202-4e74-b95c-5194c80c190b",
        "colab": {
          "base_uri": "https://localhost:8080/",
          "height": 54
        }
      },
      "source": [
        "propro(pdf_text)"
      ],
      "execution_count": 0,
      "outputs": [
        {
          "output_type": "execute_result",
          "data": {
            "text/plain": [
              "'bayerqglb fax gesch ftsbest tigung im namen von adac thomas firster societe generale ol irs seow jor we bayernll brienner strabe milnchen allg deutscher automobil ciub adac ev hansastr miinchen fax de bitte bef antwort angeben ureser zalchen fr seathaler telfa mail np bayernib de datum vr ihre nachricht schuldscheindariehen trade nr sehr geshrte damen und herren we wie telefonisch vereinbart ibernehmen wir von thnen mit valuta vv schuldscheindarlehen dvb bank se va fallig am eur prozent zinstermin gz niichster zinsmethode act act icma kurs prozent den gegenwert ven euro vergliten wir mit obiger vaiutz an kre iban de bic bylademmxxx mit obiger valuta treten sie hiermit die forderung an uns ab die urkunde stelien sie bitte nicht auf uns aus sondern bedingt durch einen weiterverksuf der forderung unsererseits auf adac se hansasty miinchen bi ba is bayernlb operating office operations services briefadresse miinchen paketadresse brienner strake miinchen tel fax www bayernib de swify byla de mm bankleftzahl handelsregister bayerische landeshank amtsgericht miinchen hra sitz miinchen ustidnr de bitte veranlassen sie dass fillige zins und tilgungsleistungen dem gldubiger an dessen iban deas bic bylademmxxx vergttet werden die urkunde entnehmen wir aus threm depot bef uns die parteien sind sich dariiber einig dass mit dem zeltpunkt der kaufpreis zahlung durch den erwerber die verkaufte darlehensforderung mit sdmtlichen nebenrechten auf den erwerber ibergeht aufschiebende bedingung ohne dass es noch einer zusitzlichen abtretungserkldrung bedarf die sp tere aus stellung der abtretungsurkunde ist im geschaftsverkehr giblich und dient lediglich beweiszwecken recelved gmt daylight time page of xfr fax fz rainsoe woes wir bitten sie unsere gesch ftsbestitigung zum zwecke der gegenbe seite stitigung zu unterzeichnen und per fax an uns zuriickzusenden zn die fax nr se hreloen vom wir danken ihnen fiir diesen geschiftsabschiuss mit freundlichen griiben bayerische landesbank re irtit seethalef bernhard lacher birgit received gmt daylight time page of attired fs fax thomas muller societe gener securtiss tel received gmt daylight time mx wiz roms gesch ftsbestatigung im namen von adac thomas rster le societe gene securitas lae is bayern brienner strafle minden adac se yd hansastr midnchen servicers fax bitte bel antwort angeben ise nachricht unser zefchen telifewe mall datum fr seethaler db sed np bayernib de schuidscheindariehen trade mr sehr geehrte damen und herren or wie telefonisch vereinbart iberlassen wir thnen mit valuta schutdscheindarlehen dvb bank se wa fallig am zinstermin gzj nachster zinsmethode act act icma kurs prozent wr eur prozent vd den gegenwert vor eurg belasten wir mit obiger valuta jhrem konto ban de bic bylademmxxx mit obiger valuta treten wir hiermit die forderung an sie ab die auf thren namen ausgestellte urkunde verwahren wir in threm depot bei uns llige zins und tilgungsleistungen erhalten sie vom schuldrer an thre iban de bic bylademmxckx die parteien sind sich dariitber einig dass mit dem zeitpunkt der kaufpreis zahlung durch den erwerber die verkaufte darlehensforderung mit mtlichen nebenrechten auf den erwerber ibergeht aufschiebende bedingung ohne dass es noch einer zus tzlichen abtretungserklirung bedarf die spitere aus stellung der abtretungsurkunde ist im geschiftsverkehr iblich und dient ledigtich beweiszwecken page of bayernlb cperating office operations servites briefadresse bo minchen paketadresse brisnnar strale miinchen tet fax www bayernib de swift byla de mm bankleitzaht handeisregister bayerische landesbank amtsgericht minchan hra sitz minchen ust idnr de freigzba sad mn xf aa fax seite wir bitten sie unsere geschiftsbestitigung zum zwecke der gegenbe stitigung zu unterzeichnen und per fax an uns zuriickzusenden an die zum schreiben vom fax nr wir danken thnen fiir diesen gesch ftsabschluss mit freundlichen criifen bayerische landesbank ft birgit seethaler bernhard lacher recelved gmt dayfight time page of'"
            ]
          },
          "metadata": {
            "tags": []
          },
          "execution_count": 29
        }
      ]
    },
    {
      "cell_type": "code",
      "metadata": {
        "id": "WRpaz7ijIPqC",
        "colab_type": "code",
        "colab": {}
      },
      "source": [
        ""
      ],
      "execution_count": 0,
      "outputs": []
    }
  ]
}