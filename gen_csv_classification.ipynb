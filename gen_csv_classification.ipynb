{
  "nbformat": 4,
  "nbformat_minor": 0,
  "metadata": {
    "colab": {
      "name": "gen_csv_classification.ipynb",
      "provenance": [],
      "collapsed_sections": [],
      "include_colab_link": true
    },
    "kernelspec": {
      "name": "python3",
      "display_name": "Python 3"
    }
  },
  "cells": [
    {
      "cell_type": "markdown",
      "metadata": {
        "id": "view-in-github",
        "colab_type": "text"
      },
      "source": [
        "<a href=\"https://colab.research.google.com/github/ELehmann91/NLP-Contract-Analysis/blob/master/gen_csv_classification.ipynb\" target=\"_parent\"><img src=\"https://colab.research.google.com/assets/colab-badge.svg\" alt=\"Open In Colab\"/></a>"
      ]
    },
    {
      "cell_type": "code",
      "metadata": {
        "id": "uALZAGdfc4Gk",
        "colab_type": "code",
        "colab": {}
      },
      "source": [
        "%%capture\n",
        "!pip install PyPDF2"
      ],
      "execution_count": 0,
      "outputs": []
    },
    {
      "cell_type": "code",
      "metadata": {
        "id": "lDfNHxuLc_gn",
        "colab_type": "code",
        "colab": {}
      },
      "source": [
        "import os\n",
        "import json\n",
        "import  pandas as pd\n",
        "import PyPDF2"
      ],
      "execution_count": 0,
      "outputs": []
    },
    {
      "cell_type": "code",
      "metadata": {
        "id": "KPdpGNYqc_jg",
        "colab_type": "code",
        "outputId": "e050bf14-255f-4fc9-fa89-91c804008d07",
        "colab": {
          "base_uri": "https://localhost:8080/",
          "height": 122
        }
      },
      "source": [
        "from google.colab import drive\n",
        "\n",
        "drive.mount('/content/gdrive')"
      ],
      "execution_count": 0,
      "outputs": [
        {
          "output_type": "stream",
          "text": [
            "Go to this URL in a browser: https://accounts.google.com/o/oauth2/auth?client_id=947318989803-6bn6qk8qdgf4n4g3pfee6491hc0brc4i.apps.googleusercontent.com&redirect_uri=urn%3aietf%3awg%3aoauth%3a2.0%3aoob&response_type=code&scope=email%20https%3a%2f%2fwww.googleapis.com%2fauth%2fdocs.test%20https%3a%2f%2fwww.googleapis.com%2fauth%2fdrive%20https%3a%2f%2fwww.googleapis.com%2fauth%2fdrive.photos.readonly%20https%3a%2f%2fwww.googleapis.com%2fauth%2fpeopleapi.readonly\n",
            "\n",
            "Enter your authorization code:\n",
            "··········\n",
            "Mounted at /content/gdrive\n"
          ],
          "name": "stdout"
        }
      ]
    },
    {
      "cell_type": "code",
      "metadata": {
        "id": "l2Lorzi5c_m9",
        "colab_type": "code",
        "outputId": "658a8152-0523-44ec-cce1-484172e965cb",
        "colab": {
          "base_uri": "https://localhost:8080/",
          "height": 34
        }
      },
      "source": [
        "path = '/content/gdrive/Shared drives/FS-AI Base Data/innolytiq_pdf/'\n",
        "file_list = os.listdir(path)\n",
        "len(file_list)"
      ],
      "execution_count": 0,
      "outputs": [
        {
          "output_type": "execute_result",
          "data": {
            "text/plain": [
              "149"
            ]
          },
          "metadata": {
            "tags": []
          },
          "execution_count": 4
        }
      ]
    },
    {
      "cell_type": "code",
      "metadata": {
        "id": "y_vgbqEzc_pg",
        "colab_type": "code",
        "colab": {}
      },
      "source": [
        "name_list = []\n",
        "\n",
        "with open(path + file_list[0]+'/data.json', encoding=\"utf8\") as json_file:\n",
        "    data = json.load(json_file)\n",
        "    for line in data['output']:\n",
        "        try: #line['members'] is not None:\n",
        "            name_list.append(line['name'])\n",
        "        except:\n",
        "            print(line)"
      ],
      "execution_count": 0,
      "outputs": []
    },
    {
      "cell_type": "code",
      "metadata": {
        "id": "u9tOp7poc_sC",
        "colab_type": "code",
        "colab": {}
      },
      "source": [
        "df_ = pd.DataFrame(index=file_list, columns=name_list)\n",
        "df_ = df_.fillna(0) # with 0s rather than NaNs"
      ],
      "execution_count": 0,
      "outputs": []
    },
    {
      "cell_type": "code",
      "metadata": {
        "id": "8G0W9lrldE6v",
        "colab_type": "code",
        "colab": {}
      },
      "source": [
        "for file in file_list:\n",
        "    with open(path+file+'/data.json', encoding=\"utf8\") as json_file:\n",
        "        data = json.load(json_file)\n",
        "        #print(data)\n",
        "        try:\n",
        "            for line in data['output']:\n",
        "                try: # line['members'] is not None:\n",
        "                    df_.loc[df_.index==file,line['name']] = line['data'][0]['value']\n",
        "                except:\n",
        "                    pass\n",
        "                    #print(line['name'])\n",
        "        except KeyError:\n",
        "            print(file)"
      ],
      "execution_count": 0,
      "outputs": []
    },
    {
      "cell_type": "code",
      "metadata": {
        "id": "oq6XjWXAdE9k",
        "colab_type": "code",
        "outputId": "5901ae2f-9748-4298-b670-fe3820f170c4",
        "colab": {
          "base_uri": "https://localhost:8080/",
          "height": 1000
        }
      },
      "source": [
        "df_['pdf_text'] = 'leer'\n",
        "for file in file_list:\n",
        "  if file != 'series_1513__tranche_11.pdf':\n",
        "    with open(path+file+'/'+file+'.pdf', 'rb') as pdfFileObj:\n",
        "        pdfReader = PyPDF2.PdfFileReader(pdfFileObj)\n",
        "        try:\n",
        "            print(file, pdfReader.numPages)\n",
        "            pdf_text = ' '.join([pdfReader.getPage(i).extractText() for i in range(0,min(pdfReader.numPages,2))])\n",
        "            df_['pdf_text'][df_.index==file] = pdf_text.replace('\\n',' ')\n",
        "        except:\n",
        "          print('cant read '+file)"
      ],
      "execution_count": 0,
      "outputs": [
        {
          "output_type": "stream",
          "text": [
            "erfurter_bank_eg.pdf 1\n"
          ],
          "name": "stdout"
        },
        {
          "output_type": "stream",
          "text": [
            "SettingWithCopyWarning: \n",
            "A value is trying to be set on a copy of a slice from a DataFrame\n",
            "\n",
            "See the caveats in the documentation: http://pandas.pydata.org/pandas-docs/stable/user_guide/indexing.html#returning-a-view-versus-a-copy [ipykernel_launcher.py:9]\n",
            "PdfReadWarning: Xref table not zero-indexed. ID numbers for objects will be corrected. [pdf.py:1736]\n"
          ],
          "name": "stderr"
        },
        {
          "output_type": "stream",
          "text": [
            "de000dr0q3k7_en.pdf 2\n"
          ],
          "name": "stdout"
        },
        {
          "output_type": "stream",
          "text": [
            "PdfReadWarning: Superfluous whitespace found in object header b'1' b'0' [pdf.py:1666]\n",
            "PdfReadWarning: Superfluous whitespace found in object header b'2' b'0' [pdf.py:1666]\n"
          ],
          "name": "stderr"
        },
        {
          "output_type": "stream",
          "text": [
            "cant read xf0000056977_-_fresenius_se.pdf\n",
            "xf7000001779.pdf 1\n",
            "xf0000053353_-_bayern_lb_nasv.pdf 2\n",
            "xf7000002049.pdf 2\n",
            "xf0000056184_-_sparkassenverband_b.w..pdf 4\n",
            "xs1191881306.pdf 1\n",
            "eurohypo_ag_oenapf.pdf 3\n",
            "de0007572711_dt.pdf 7\n",
            "de000de04xk4_dt_pib.pdf 3\n",
            "de000hsh3j46_dt.pdf 1\n",
            "de000a0fag76_dt.pdf 15\n",
            "xf7000001879.pdf 1\n",
            "xf7000001874.pdf 1\n",
            "xf7000001950.pdf 1\n",
            "de000a1h3v53_dt.pdf 90\n",
            "de000dr9rhd9_dt.pdf 2\n",
            "de000dr0q169_de.pdf 2\n",
            "amba-#7711630-v1-executed_-_nwb_-_sdg_final_terms.pdf 7\n",
            "xf7000002042.pdf 2\n",
            "de000dr5dq47_eng.pdf 2\n",
            "de000a0e83l5_dt.pdf 24\n",
            "de000dr0rvp3_en.pdf 1\n",
            "de000dr4wdy5_eng.pdf 2\n",
            "de000dr9rhd9_en.pdf 2\n",
            "final_terms_eur250m_series_1516.pdf 7\n",
            "final_terms_zero_coupon_july2020.pdf 5\n",
            "final_terms_eur85m_series_1445xxiii.pdf 8\n",
            "final_terms_xs2066631206_series_1522.pdf 7\n",
            "final_terms_series_1411_tranche_6.pdf 7\n",
            "int_925013.pdf 1\n",
            "final-terms-series-60-i-tranch2.pdf 9\n",
            "icm-#33492791-v1-executed_final_terms_-_nwb_aug_2021.pdf 9\n",
            "serie_1513_viii_final_terms_signed.pdf 8\n",
            "xf0000056128_-_liebherr.pdf 12\n",
            "xf0000054599_-_asklepios_kliniken.pdf 24\n",
            "series_1513_x_final_terms.pdf 8\n",
            "xf7000001896.pdf 1\n",
            "xf0000059095_-_giesecke___devrient.pdf 17\n",
            "xf7000001907.pdf 4\n",
            "xf7000001963.pdf 1\n",
            "de000cz31p52_eng.pdf 3\n",
            "de000dr6ytn5_en.pdf 2\n",
            "de000dr0fl37_eng.pdf 2\n",
            "de000dr0pun4_eng.pdf 2\n",
            "de000dr6d0m8_eng_ts.pdf 2\n",
            "de000dr5xzf2_en.pdf 2\n",
            "de000dr0q0e6_eng.pdf 2\n",
            "de000dr4wdy5_ps_eng.pdf 2\n",
            "de000dr0q3k7_en_swissspecs.pdf 2\n",
            "de000dr0q169_en.pdf 2\n",
            "de000dr1wf58_en.pdf 1\n",
            "de000dr0quq5_en.pdf 2\n",
            "de000dr1vlh1_en.pdf 1\n",
            "final_terms_gbp15m_series_1510.pdf 7\n",
            "final_terms_xs2071397348_series_1523.pdf 8\n",
            "final_terms_series_1515.pdf 8\n",
            "int_920003.pdf 1\n",
            "final_terms_series_1418_ii_xs1312042648.pdf 7\n",
            "final_terms_usd100m_series_1513_vi.pdf 8\n",
            "ssd025004398_urkunde.pdf 9\n",
            "gutschriftsanzeige.pdf 1\n",
            "xf0000056311_-_robert_bosch_gmbh.pdf 14\n",
            "xfca00h06673.pdf 4\n",
            "de000dr0q3d2_eng.pdf 2\n",
            "xf7000001895.pdf 2\n",
            "de000cb83hp8_dt.pdf 3\n",
            "xf0000057930_-_lonza_group_ssd.pdf 18\n",
            "xs0531121290_dt.pdf 2\n",
            "de000cz225q7_dt.pdf 12\n",
            "de000cb83gn5_dt.pdf 2\n",
            "xf7000001873.pdf 1\n",
            "de000dr0q3k7_dt.pdf 2\n",
            "de000dr0quq5_de.pdf 2\n",
            "serie_1507_final_terms.pdf 10\n",
            "final_terms_isin_de000dl19t00.pdf 10\n",
            "final_terms_isin_de000dl19te8.pdf 12\n",
            "final_terms_isin_de000dl19tk5.pdf 10\n",
            "final_terms_isin_de000dl19tf5.pdf 10\n",
            "final_terms_isin_de000dl19tj7.pdf 10\n",
            "final_terms_isin_de000dl19th1.pdf 10\n",
            "final_terms_usd200m_series_1513_iv.pdf 8\n",
            "final_terms_isin_de000dl19tg3.pdf 10\n",
            "isin_de000dl19t91_final_terms.pdf 18\n",
            "final_terms_isin_de000dl19tl3.pdf 10\n",
            "isin_de000dl19t75_final_terms.pdf 10\n",
            "isin_de000dl19t59_final_terms.pdf 10\n",
            "final_terms_isin_xs1529948934.pdf 11\n",
            "isin_de000dl19t83_final_terms.pdf 10\n",
            "final_terms_isin_de000dl19sz5.pdf 11\n",
            "isin_de000dl19uk3_final_terms.pdf 11\n",
            "isin_de000dl19t42_final_terms.pdf 10\n",
            "isin_de000dl19uh9_final_terms.pdf 11\n",
            "isin_de000dl19ul1_final_terms.pdf 11\n",
            "final_terms_db5dcc.pdf 22\n",
            "final_terms_dl19st.pdf 11\n",
            "isin_de000dl19uu2_final_terms.pdf 11\n",
            "isin_de000dl19uy4_final_terms.pdf 13\n",
            "final_terms_isin_de000dl19s43.pdf 10\n",
            "final_terms_isin_de000dl19s92.pdf 10\n",
            "final_terms_dl19sk.pdf 11\n",
            "final_terms_eur50m_series_1489.pdf 8\n",
            "final_terms_db5dbz.pdf 22\n",
            "final_terms_isin_de000dl19s35.pdf 10\n",
            "serie_1445_xviii_final_terms.pdf 8\n",
            "final_terms_eur150m_series_1204_iii.pdf 7\n",
            "final_terms_eur130m_series_1425_iii.pdf 7\n",
            "final_terms_eur50m_series_1488.pdf 8\n",
            "final_terms_eur40m_series_1486_.pdf 7\n",
            "final_terms_eur100m_series_1435_xiii_.pdf 7\n",
            "final_terms_eur40m_series_1487.pdf 8\n",
            "final_terms_eur100m_series_1435_ix.pdf 7\n",
            "final_terms_eur100m_series_1425_ii.pdf 8\n",
            "final_terms_eur100m_series_1204_ii.pdf 8\n",
            "final_terms_eur30m_series_1445_xvi.pdf 9\n",
            "final_terms_usd50m_series_1467_iv_final.pdf 9\n",
            "final_terms_nzd66m_series_1485.pdf 8\n",
            "final_terms_eur50m_series_1445_xvii.pdf 8\n",
            "serie_1483_final_terms.pdf 8\n",
            "final_terms_eur40m_series_1484.pdf 8\n",
            "final_terms_eur120m_series_1435_vii.pdf 7\n",
            "final_terms_usd_90m_series_1475_v_1010.pdf 9\n",
            "cur_1475_vii_final_terms.pdf 9\n",
            "cur_1495_final_terms.pdf 8\n",
            "final_terms_eur20m_series_1504.pdf 8\n",
            "final_terms_usd_150m_series_1475_vi.pdf 9\n",
            "final_terms_sek150m_series_1499.pdf 7\n",
            "final_terms_usd_100m_series_1467_v.pdf 8\n",
            "final_terms_series_1467-iii_executed_nwb_bank.pdf 10\n",
            "amco-#10263869-v1-nwb_-_executed_-_final_terms_september_2018.pdf 7\n",
            "cur_1492_final_terms.pdf 8\n",
            "final_terms_1503.pdf 6\n",
            "cur_1490_amended_ft.pdf 8\n",
            "final_terms_sek150m_series_1501.pdf 7\n",
            "final_terms_eur25m_series_1435_xi.pdf 8\n",
            "final_terms_eur50m_series_1435_x.pdf 8\n",
            "cur_1445_xxii_final_terms.pdf 8\n",
            "cur_1498_final_terms.pdf 7\n",
            "final_terms_eur50m_series_1435_xiii.pdf 7\n",
            "final_terms_eur25m_series_1445_xx.pdf 8\n",
            "final_terms_eur20m_series_1508_.pdf 8\n",
            "amba-#7369249-v1-nwb_-_executed_ft.pdf 7\n",
            "final_terms_eur50m_series_1445_xix.pdf 8\n",
            "final_terms_eur20m_series_1496.pdf 8\n",
            "cur_1435_xii_final_terms.pdf 7\n",
            "amba-#7513529-v1-nwb_-_final_terms_-_signed_by_nwb.pdf 8\n",
            "final_terms_eur15m_series_1445_xxi.pdf 8\n"
          ],
          "name": "stdout"
        }
      ]
    },
    {
      "cell_type": "code",
      "metadata": {
        "id": "fyOmSC7CeX6_",
        "colab_type": "code",
        "outputId": "496d1e71-4546-48cd-d545-aa6a5bb4c1f3",
        "colab": {
          "base_uri": "https://localhost:8080/",
          "height": 425
        }
      },
      "source": [
        "list(df_)"
      ],
      "execution_count": 0,
      "outputs": [
        {
          "output_type": "execute_result",
          "data": {
            "text/plain": [
              "['006_issue_date',\n",
              " '009_nominal_amount',\n",
              " '008_maturity_date',\n",
              " '010_redemption_formula',\n",
              " '011_seniority',\n",
              " '012_business_day_convention',\n",
              " '014_business_day_calendar',\n",
              " '017_first_payment_date',\n",
              " '018_payment_dates',\n",
              " '021_formula',\n",
              " '002_issuer_name',\n",
              " '020_paragraph_489',\n",
              " '004_identifiers',\n",
              " '007_issue_price',\n",
              " '003_product_subclass',\n",
              " '015_payment_frequency',\n",
              " '005_currency',\n",
              " '013_day_count_convention',\n",
              " '001_type',\n",
              " '004_wkn',\n",
              " '004_isin',\n",
              " '023_amendment',\n",
              " '022_legislation',\n",
              " 'pdf_text']"
            ]
          },
          "metadata": {
            "tags": []
          },
          "execution_count": 10
        }
      ]
    },
    {
      "cell_type": "code",
      "metadata": {
        "id": "dDPguIWFhqnk",
        "colab_type": "code",
        "colab": {}
      },
      "source": [
        "classification = ['001_type','003_product_subclass','005_currency','011_seniority','012_business_day_convention','013_day_count_convention','014_business_day_calendar','015_payment_frequency','022_legislation','023_amendment']"
      ],
      "execution_count": 0,
      "outputs": []
    },
    {
      "cell_type": "code",
      "metadata": {
        "id": "4NsJKJdPnGGr",
        "colab_type": "code",
        "outputId": "ec2101f3-752c-4395-a6d6-3c21ea99cd9c",
        "colab": {
          "base_uri": "https://localhost:8080/",
          "height": 34
        }
      },
      "source": [
        "len(df_[df_['015_payment_frequency'] == '1'])"
      ],
      "execution_count": 0,
      "outputs": [
        {
          "output_type": "execute_result",
          "data": {
            "text/plain": [
              "109"
            ]
          },
          "metadata": {
            "tags": []
          },
          "execution_count": 14
        }
      ]
    },
    {
      "cell_type": "code",
      "metadata": {
        "id": "krkzkwMedFA3",
        "colab_type": "code",
        "colab": {}
      },
      "source": [
        "df_bert = df_['pdf_text']\n",
        "\n",
        "for var in classification:\n",
        "  temp = pd.get_dummies(df_[var],prefix=var)\n",
        "  for col in temp.columns:\n",
        "    if sum(temp[col])<5:\n",
        "      temp = temp.drop(col, axis=1)\n",
        "\n",
        "  df_bert = pd.concat([df_bert,temp],axis=1)\n"
      ],
      "execution_count": 0,
      "outputs": []
    },
    {
      "cell_type": "code",
      "metadata": {
        "id": "a6eFoZl5tyHe",
        "colab_type": "code",
        "outputId": "ba5726a1-05e6-443c-e5e1-03ab372abcad",
        "colab": {
          "base_uri": "https://localhost:8080/",
          "height": 301
        }
      },
      "source": [
        "df_bert[:2]"
      ],
      "execution_count": 0,
      "outputs": [
        {
          "output_type": "execute_result",
          "data": {
            "text/html": [
              "<div>\n",
              "<style scoped>\n",
              "    .dataframe tbody tr th:only-of-type {\n",
              "        vertical-align: middle;\n",
              "    }\n",
              "\n",
              "    .dataframe tbody tr th {\n",
              "        vertical-align: top;\n",
              "    }\n",
              "\n",
              "    .dataframe thead th {\n",
              "        text-align: right;\n",
              "    }\n",
              "</style>\n",
              "<table border=\"1\" class=\"dataframe\">\n",
              "  <thead>\n",
              "    <tr style=\"text-align: right;\">\n",
              "      <th></th>\n",
              "      <th>pdf_text</th>\n",
              "      <th>001_type_Fixed</th>\n",
              "      <th>001_type_Floating</th>\n",
              "      <th>003_product_subclass_</th>\n",
              "      <th>003_product_subclass_Bond</th>\n",
              "      <th>003_product_subclass_Covered Bond</th>\n",
              "      <th>003_product_subclass_Schuldschein</th>\n",
              "      <th>003_product_subclass_other Loan</th>\n",
              "      <th>005_currency_</th>\n",
              "      <th>005_currency_EUR</th>\n",
              "      <th>005_currency_Euro</th>\n",
              "      <th>005_currency_Euro (€)</th>\n",
              "      <th>005_currency_USD</th>\n",
              "      <th>011_seniority_</th>\n",
              "      <th>011_seniority_Senior</th>\n",
              "      <th>011_seniority_Senior Secured</th>\n",
              "      <th>011_seniority_Senior Unsecured</th>\n",
              "      <th>012_business_day_convention_</th>\n",
              "      <th>012_business_day_convention_Following adjusted</th>\n",
              "      <th>012_business_day_convention_Following unadjusted</th>\n",
              "      <th>012_business_day_convention_Modified following adjusted</th>\n",
              "      <th>012_business_day_convention_Unadjusted</th>\n",
              "      <th>013_day_count_convention_</th>\n",
              "      <th>013_day_count_convention_30/360</th>\n",
              "      <th>013_day_count_convention_301360</th>\n",
              "      <th>013_day_count_convention_Act/360</th>\n",
              "      <th>013_day_count_convention_Act/act ICMA</th>\n",
              "      <th>013_day_count_convention_Actual/Actual (ICMA)</th>\n",
              "      <th>013_day_count_convention_act/act</th>\n",
              "      <th>014_business_day_calendar_</th>\n",
              "      <th>014_business_day_calendar_TARGET</th>\n",
              "      <th>014_business_day_calendar_TARGET2</th>\n",
              "      <th>015_payment_frequency_</th>\n",
              "      <th>015_payment_frequency_0</th>\n",
              "      <th>015_payment_frequency_1</th>\n",
              "      <th>015_payment_frequency_2</th>\n",
              "      <th>015_payment_frequency_4</th>\n",
              "      <th>022_legislation_</th>\n",
              "      <th>022_legislation_Ger</th>\n",
              "      <th>022_legislation_German Law</th>\n",
              "      <th>022_legislation_NLD</th>\n",
              "      <th>022_legislation_Netherlands</th>\n",
              "      <th>023_amendment_</th>\n",
              "      <th>023_amendment_no_amendment</th>\n",
              "    </tr>\n",
              "  </thead>\n",
              "  <tbody>\n",
              "    <tr>\n",
              "      <th>erfurter_bank_eg.pdf</th>\n",
              "      <td>1. Erfurt, den 19.02.2013 Unterschrift; SCHULD...</td>\n",
              "      <td>1</td>\n",
              "      <td>0</td>\n",
              "      <td>0</td>\n",
              "      <td>0</td>\n",
              "      <td>0</td>\n",
              "      <td>1</td>\n",
              "      <td>0</td>\n",
              "      <td>0</td>\n",
              "      <td>1</td>\n",
              "      <td>0</td>\n",
              "      <td>0</td>\n",
              "      <td>0</td>\n",
              "      <td>1</td>\n",
              "      <td>0</td>\n",
              "      <td>0</td>\n",
              "      <td>0</td>\n",
              "      <td>1</td>\n",
              "      <td>0</td>\n",
              "      <td>0</td>\n",
              "      <td>0</td>\n",
              "      <td>0</td>\n",
              "      <td>0</td>\n",
              "      <td>0</td>\n",
              "      <td>0</td>\n",
              "      <td>0</td>\n",
              "      <td>0</td>\n",
              "      <td>0</td>\n",
              "      <td>1</td>\n",
              "      <td>1</td>\n",
              "      <td>0</td>\n",
              "      <td>0</td>\n",
              "      <td>0</td>\n",
              "      <td>0</td>\n",
              "      <td>1</td>\n",
              "      <td>0</td>\n",
              "      <td>0</td>\n",
              "      <td>0</td>\n",
              "      <td>1</td>\n",
              "      <td>0</td>\n",
              "      <td>0</td>\n",
              "      <td>0</td>\n",
              "      <td>0</td>\n",
              "      <td>1</td>\n",
              "    </tr>\n",
              "    <tr>\n",
              "      <th>de000dr0q3k7_en.pdf</th>\n",
              "      <td>Dresdner Bank AG  Private Investor Products  +...</td>\n",
              "      <td>0</td>\n",
              "      <td>1</td>\n",
              "      <td>0</td>\n",
              "      <td>0</td>\n",
              "      <td>0</td>\n",
              "      <td>0</td>\n",
              "      <td>1</td>\n",
              "      <td>0</td>\n",
              "      <td>1</td>\n",
              "      <td>0</td>\n",
              "      <td>0</td>\n",
              "      <td>0</td>\n",
              "      <td>1</td>\n",
              "      <td>0</td>\n",
              "      <td>0</td>\n",
              "      <td>0</td>\n",
              "      <td>1</td>\n",
              "      <td>0</td>\n",
              "      <td>0</td>\n",
              "      <td>0</td>\n",
              "      <td>0</td>\n",
              "      <td>1</td>\n",
              "      <td>0</td>\n",
              "      <td>0</td>\n",
              "      <td>0</td>\n",
              "      <td>0</td>\n",
              "      <td>0</td>\n",
              "      <td>0</td>\n",
              "      <td>1</td>\n",
              "      <td>0</td>\n",
              "      <td>0</td>\n",
              "      <td>0</td>\n",
              "      <td>0</td>\n",
              "      <td>1</td>\n",
              "      <td>0</td>\n",
              "      <td>0</td>\n",
              "      <td>0</td>\n",
              "      <td>1</td>\n",
              "      <td>0</td>\n",
              "      <td>0</td>\n",
              "      <td>0</td>\n",
              "      <td>0</td>\n",
              "      <td>1</td>\n",
              "    </tr>\n",
              "  </tbody>\n",
              "</table>\n",
              "</div>"
            ],
            "text/plain": [
              "                                                               pdf_text  ...  023_amendment_no_amendment\n",
              "erfurter_bank_eg.pdf  1. Erfurt, den 19.02.2013 Unterschrift; SCHULD...  ...                           1\n",
              "de000dr0q3k7_en.pdf   Dresdner Bank AG  Private Investor Products  +...  ...                           1\n",
              "\n",
              "[2 rows x 44 columns]"
            ]
          },
          "metadata": {
            "tags": []
          },
          "execution_count": 18
        }
      ]
    },
    {
      "cell_type": "code",
      "metadata": {
        "id": "u_ZNRfiQdOz-",
        "colab_type": "code",
        "colab": {}
      },
      "source": [
        "df_bert.to_csv('/content/gdrive/Shared drives/FS-AI Base Data/df_bert.csv')"
      ],
      "execution_count": 0,
      "outputs": []
    },
    {
      "cell_type": "code",
      "metadata": {
        "id": "BFwXoeaidO2q",
        "colab_type": "code",
        "colab": {}
      },
      "source": [
        ""
      ],
      "execution_count": 0,
      "outputs": []
    }
  ]
}